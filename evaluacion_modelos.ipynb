{
 "cells": [
  {
   "cell_type": "code",
   "execution_count": 1,
   "id": "7032e1b1",
   "metadata": {},
   "outputs": [],
   "source": [
    "import pandas as pd\n",
    "import numpy as np\n",
    "from sklearn.model_selection import train_test_split\n",
    "import joblib\n",
    "from sklearn.compose import ColumnTransformer\n",
    "from sklearn.model_selection import cross_validate\n",
    "from sklearn.tree import DecisionTreeClassifier\n",
    "from sklearn.pipeline import Pipeline\n",
    "from sklearn.impute import SimpleImputer\n",
    "from sklearn.preprocessing import MinMaxScaler\n",
    "from sklearn.pipeline import Pipeline\n",
    "from sklearn.preprocessing import RobustScaler\n",
    "from sklearn.preprocessing import OneHotEncoder\n",
    "import matplotlib.pyplot as plt"
   ]
  },
  {
   "cell_type": "code",
   "execution_count": 2,
   "id": "eec8a433",
   "metadata": {},
   "outputs": [],
   "source": [
    "train = pd.read_csv(\"s3://germancredit2/datos/train/train.csv\")\n",
    "test = pd.read_csv(\"s3://germancredit2/datos/train/test.csv\")"
   ]
  },
  {
   "cell_type": "code",
   "execution_count": 3,
   "id": "8fea6c00",
   "metadata": {},
   "outputs": [],
   "source": [
    "numeric_pipeline = Pipeline(\n",
    "    [\n",
    "     ('Imputacion con la media', SimpleImputer(strategy = 'mean')),\n",
    "     ('Escalado minmax',MinMaxScaler())\n",
    "        \n",
    "    ]\n",
    ")"
   ]
  },
  {
   "cell_type": "code",
   "execution_count": 4,
   "id": "ad1db3bd",
   "metadata": {},
   "outputs": [],
   "source": [
    "\n",
    "#Sex, Purpose,Categoric_python,Checking account\n",
    "categorical_pipeline = Pipeline(\n",
    "    [\n",
    "     ('Imputacion con la moda', SimpleImputer(strategy = 'most_frequent')),\n",
    "     ('Codificacion',OneHotEncoder(sparse = False,drop='first'))\n",
    "        \n",
    "    ]\n",
    ")"
   ]
  },
  {
   "cell_type": "code",
   "execution_count": 5,
   "id": "56d69ade",
   "metadata": {},
   "outputs": [],
   "source": [
    "column_transformer = ColumnTransformer(\n",
    "[\n",
    "    (\"numeric pipeline\",numeric_pipeline,[0,1,2]),\n",
    "    (\"categorical pipeline\",categorical_pipeline,[3,4,5])\n",
    "]\n",
    ")"
   ]
  },
  {
   "cell_type": "code",
   "execution_count": 6,
   "id": "cb125e34",
   "metadata": {},
   "outputs": [],
   "source": [
    "features = [\"Age\",\"Credit amount\",\"Duration\",\"Sex\",\"Purpose\",\"Housing\"]"
   ]
  },
  {
   "cell_type": "markdown",
   "id": "e84a1afc",
   "metadata": {},
   "source": [
    "### Selección de caracteristicas"
   ]
  },
  {
   "cell_type": "code",
   "execution_count": 7,
   "id": "e004a88e",
   "metadata": {},
   "outputs": [],
   "source": [
    "#train = train.dropna()"
   ]
  },
  {
   "cell_type": "code",
   "execution_count": 8,
   "id": "3cf0bb17",
   "metadata": {},
   "outputs": [],
   "source": [
    "X_train = train.drop([\"Risk\",\"Unnamed: 0\"],axis=1)\n",
    "y_train = train[\"Risk\"]\n",
    "y_train_transform = (y_train=='good').astype('int')\n"
   ]
  },
  {
   "cell_type": "code",
   "execution_count": 9,
   "id": "78e7ebc6",
   "metadata": {},
   "outputs": [
    {
     "name": "stdout",
     "output_type": "stream",
     "text": [
      "<class 'pandas.core.frame.DataFrame'>\n",
      "RangeIndex: 700 entries, 0 to 699\n",
      "Data columns (total 9 columns):\n",
      " #   Column            Non-Null Count  Dtype \n",
      "---  ------            --------------  ----- \n",
      " 0   Age               700 non-null    int64 \n",
      " 1   Sex               700 non-null    object\n",
      " 2   Job               700 non-null    int64 \n",
      " 3   Housing           700 non-null    object\n",
      " 4   Saving accounts   575 non-null    object\n",
      " 5   Checking account  426 non-null    object\n",
      " 6   Credit amount     700 non-null    int64 \n",
      " 7   Duration          700 non-null    int64 \n",
      " 8   Purpose           700 non-null    object\n",
      "dtypes: int64(4), object(5)\n",
      "memory usage: 49.3+ KB\n"
     ]
    }
   ],
   "source": [
    "X_train.info()"
   ]
  },
  {
   "cell_type": "code",
   "execution_count": 10,
   "id": "69d3af13",
   "metadata": {},
   "outputs": [
    {
     "data": {
      "text/plain": [
       "700"
      ]
     },
     "execution_count": 10,
     "metadata": {},
     "output_type": "execute_result"
    }
   ],
   "source": [
    "y_train.size"
   ]
  },
  {
   "cell_type": "code",
   "execution_count": 11,
   "id": "75b93b89",
   "metadata": {},
   "outputs": [
    {
     "name": "stdout",
     "output_type": "stream",
     "text": [
      "<class 'pandas.core.frame.DataFrame'>\n",
      "RangeIndex: 700 entries, 0 to 699\n",
      "Data columns (total 9 columns):\n",
      " #   Column            Non-Null Count  Dtype \n",
      "---  ------            --------------  ----- \n",
      " 0   Age               700 non-null    int64 \n",
      " 1   Sex               700 non-null    object\n",
      " 2   Job               700 non-null    int64 \n",
      " 3   Housing           700 non-null    object\n",
      " 4   Saving accounts   575 non-null    object\n",
      " 5   Checking account  426 non-null    object\n",
      " 6   Credit amount     700 non-null    int64 \n",
      " 7   Duration          700 non-null    int64 \n",
      " 8   Purpose           700 non-null    object\n",
      "dtypes: int64(4), object(5)\n",
      "memory usage: 49.3+ KB\n"
     ]
    }
   ],
   "source": [
    "X_train.info()"
   ]
  },
  {
   "cell_type": "code",
   "execution_count": 12,
   "id": "aea0b23a",
   "metadata": {},
   "outputs": [],
   "source": [
    "X_train = pd.get_dummies(X_train)"
   ]
  },
  {
   "cell_type": "code",
   "execution_count": 13,
   "id": "7cb4d1ec",
   "metadata": {},
   "outputs": [
    {
     "data": {
      "text/html": [
       "<div>\n",
       "<style scoped>\n",
       "    .dataframe tbody tr th:only-of-type {\n",
       "        vertical-align: middle;\n",
       "    }\n",
       "\n",
       "    .dataframe tbody tr th {\n",
       "        vertical-align: top;\n",
       "    }\n",
       "\n",
       "    .dataframe thead th {\n",
       "        text-align: right;\n",
       "    }\n",
       "</style>\n",
       "<table border=\"1\" class=\"dataframe\">\n",
       "  <thead>\n",
       "    <tr style=\"text-align: right;\">\n",
       "      <th></th>\n",
       "      <th>Age</th>\n",
       "      <th>Job</th>\n",
       "      <th>Credit amount</th>\n",
       "      <th>Duration</th>\n",
       "      <th>Sex_female</th>\n",
       "      <th>Sex_male</th>\n",
       "      <th>Housing_free</th>\n",
       "      <th>Housing_own</th>\n",
       "      <th>Housing_rent</th>\n",
       "      <th>Saving accounts_little</th>\n",
       "      <th>...</th>\n",
       "      <th>Checking account_moderate</th>\n",
       "      <th>Checking account_rich</th>\n",
       "      <th>Purpose_business</th>\n",
       "      <th>Purpose_car</th>\n",
       "      <th>Purpose_domestic appliances</th>\n",
       "      <th>Purpose_education</th>\n",
       "      <th>Purpose_furniture/equipment</th>\n",
       "      <th>Purpose_radio/TV</th>\n",
       "      <th>Purpose_repairs</th>\n",
       "      <th>Purpose_vacation/others</th>\n",
       "    </tr>\n",
       "  </thead>\n",
       "  <tbody>\n",
       "    <tr>\n",
       "      <th>0</th>\n",
       "      <td>31</td>\n",
       "      <td>2</td>\n",
       "      <td>4473</td>\n",
       "      <td>36</td>\n",
       "      <td>0</td>\n",
       "      <td>1</td>\n",
       "      <td>0</td>\n",
       "      <td>1</td>\n",
       "      <td>0</td>\n",
       "      <td>1</td>\n",
       "      <td>...</td>\n",
       "      <td>0</td>\n",
       "      <td>1</td>\n",
       "      <td>0</td>\n",
       "      <td>0</td>\n",
       "      <td>0</td>\n",
       "      <td>0</td>\n",
       "      <td>0</td>\n",
       "      <td>1</td>\n",
       "      <td>0</td>\n",
       "      <td>0</td>\n",
       "    </tr>\n",
       "    <tr>\n",
       "      <th>1</th>\n",
       "      <td>46</td>\n",
       "      <td>2</td>\n",
       "      <td>1829</td>\n",
       "      <td>15</td>\n",
       "      <td>0</td>\n",
       "      <td>1</td>\n",
       "      <td>0</td>\n",
       "      <td>1</td>\n",
       "      <td>0</td>\n",
       "      <td>1</td>\n",
       "      <td>...</td>\n",
       "      <td>0</td>\n",
       "      <td>0</td>\n",
       "      <td>0</td>\n",
       "      <td>0</td>\n",
       "      <td>0</td>\n",
       "      <td>0</td>\n",
       "      <td>0</td>\n",
       "      <td>1</td>\n",
       "      <td>0</td>\n",
       "      <td>0</td>\n",
       "    </tr>\n",
       "    <tr>\n",
       "      <th>2</th>\n",
       "      <td>27</td>\n",
       "      <td>1</td>\n",
       "      <td>7418</td>\n",
       "      <td>60</td>\n",
       "      <td>0</td>\n",
       "      <td>1</td>\n",
       "      <td>0</td>\n",
       "      <td>1</td>\n",
       "      <td>0</td>\n",
       "      <td>0</td>\n",
       "      <td>...</td>\n",
       "      <td>1</td>\n",
       "      <td>0</td>\n",
       "      <td>0</td>\n",
       "      <td>0</td>\n",
       "      <td>0</td>\n",
       "      <td>0</td>\n",
       "      <td>0</td>\n",
       "      <td>1</td>\n",
       "      <td>0</td>\n",
       "      <td>0</td>\n",
       "    </tr>\n",
       "    <tr>\n",
       "      <th>3</th>\n",
       "      <td>27</td>\n",
       "      <td>2</td>\n",
       "      <td>1185</td>\n",
       "      <td>12</td>\n",
       "      <td>1</td>\n",
       "      <td>0</td>\n",
       "      <td>0</td>\n",
       "      <td>1</td>\n",
       "      <td>0</td>\n",
       "      <td>1</td>\n",
       "      <td>...</td>\n",
       "      <td>0</td>\n",
       "      <td>0</td>\n",
       "      <td>1</td>\n",
       "      <td>0</td>\n",
       "      <td>0</td>\n",
       "      <td>0</td>\n",
       "      <td>0</td>\n",
       "      <td>0</td>\n",
       "      <td>0</td>\n",
       "      <td>0</td>\n",
       "    </tr>\n",
       "    <tr>\n",
       "      <th>4</th>\n",
       "      <td>27</td>\n",
       "      <td>2</td>\n",
       "      <td>1237</td>\n",
       "      <td>6</td>\n",
       "      <td>1</td>\n",
       "      <td>0</td>\n",
       "      <td>0</td>\n",
       "      <td>1</td>\n",
       "      <td>0</td>\n",
       "      <td>0</td>\n",
       "      <td>...</td>\n",
       "      <td>0</td>\n",
       "      <td>0</td>\n",
       "      <td>0</td>\n",
       "      <td>0</td>\n",
       "      <td>0</td>\n",
       "      <td>0</td>\n",
       "      <td>0</td>\n",
       "      <td>1</td>\n",
       "      <td>0</td>\n",
       "      <td>0</td>\n",
       "    </tr>\n",
       "    <tr>\n",
       "      <th>...</th>\n",
       "      <td>...</td>\n",
       "      <td>...</td>\n",
       "      <td>...</td>\n",
       "      <td>...</td>\n",
       "      <td>...</td>\n",
       "      <td>...</td>\n",
       "      <td>...</td>\n",
       "      <td>...</td>\n",
       "      <td>...</td>\n",
       "      <td>...</td>\n",
       "      <td>...</td>\n",
       "      <td>...</td>\n",
       "      <td>...</td>\n",
       "      <td>...</td>\n",
       "      <td>...</td>\n",
       "      <td>...</td>\n",
       "      <td>...</td>\n",
       "      <td>...</td>\n",
       "      <td>...</td>\n",
       "      <td>...</td>\n",
       "      <td>...</td>\n",
       "    </tr>\n",
       "    <tr>\n",
       "      <th>695</th>\n",
       "      <td>41</td>\n",
       "      <td>1</td>\n",
       "      <td>5954</td>\n",
       "      <td>42</td>\n",
       "      <td>1</td>\n",
       "      <td>0</td>\n",
       "      <td>0</td>\n",
       "      <td>1</td>\n",
       "      <td>0</td>\n",
       "      <td>1</td>\n",
       "      <td>...</td>\n",
       "      <td>1</td>\n",
       "      <td>0</td>\n",
       "      <td>1</td>\n",
       "      <td>0</td>\n",
       "      <td>0</td>\n",
       "      <td>0</td>\n",
       "      <td>0</td>\n",
       "      <td>0</td>\n",
       "      <td>0</td>\n",
       "      <td>0</td>\n",
       "    </tr>\n",
       "    <tr>\n",
       "      <th>696</th>\n",
       "      <td>28</td>\n",
       "      <td>2</td>\n",
       "      <td>1887</td>\n",
       "      <td>18</td>\n",
       "      <td>0</td>\n",
       "      <td>1</td>\n",
       "      <td>0</td>\n",
       "      <td>1</td>\n",
       "      <td>0</td>\n",
       "      <td>0</td>\n",
       "      <td>...</td>\n",
       "      <td>1</td>\n",
       "      <td>0</td>\n",
       "      <td>1</td>\n",
       "      <td>0</td>\n",
       "      <td>0</td>\n",
       "      <td>0</td>\n",
       "      <td>0</td>\n",
       "      <td>0</td>\n",
       "      <td>0</td>\n",
       "      <td>0</td>\n",
       "    </tr>\n",
       "    <tr>\n",
       "      <th>697</th>\n",
       "      <td>63</td>\n",
       "      <td>1</td>\n",
       "      <td>1655</td>\n",
       "      <td>12</td>\n",
       "      <td>0</td>\n",
       "      <td>1</td>\n",
       "      <td>0</td>\n",
       "      <td>1</td>\n",
       "      <td>0</td>\n",
       "      <td>1</td>\n",
       "      <td>...</td>\n",
       "      <td>0</td>\n",
       "      <td>0</td>\n",
       "      <td>0</td>\n",
       "      <td>0</td>\n",
       "      <td>0</td>\n",
       "      <td>0</td>\n",
       "      <td>0</td>\n",
       "      <td>1</td>\n",
       "      <td>0</td>\n",
       "      <td>0</td>\n",
       "    </tr>\n",
       "    <tr>\n",
       "      <th>698</th>\n",
       "      <td>49</td>\n",
       "      <td>1</td>\n",
       "      <td>2096</td>\n",
       "      <td>12</td>\n",
       "      <td>0</td>\n",
       "      <td>1</td>\n",
       "      <td>0</td>\n",
       "      <td>1</td>\n",
       "      <td>0</td>\n",
       "      <td>1</td>\n",
       "      <td>...</td>\n",
       "      <td>0</td>\n",
       "      <td>0</td>\n",
       "      <td>0</td>\n",
       "      <td>0</td>\n",
       "      <td>0</td>\n",
       "      <td>1</td>\n",
       "      <td>0</td>\n",
       "      <td>0</td>\n",
       "      <td>0</td>\n",
       "      <td>0</td>\n",
       "    </tr>\n",
       "    <tr>\n",
       "      <th>699</th>\n",
       "      <td>37</td>\n",
       "      <td>2</td>\n",
       "      <td>3676</td>\n",
       "      <td>6</td>\n",
       "      <td>0</td>\n",
       "      <td>1</td>\n",
       "      <td>0</td>\n",
       "      <td>0</td>\n",
       "      <td>1</td>\n",
       "      <td>1</td>\n",
       "      <td>...</td>\n",
       "      <td>0</td>\n",
       "      <td>0</td>\n",
       "      <td>0</td>\n",
       "      <td>1</td>\n",
       "      <td>0</td>\n",
       "      <td>0</td>\n",
       "      <td>0</td>\n",
       "      <td>0</td>\n",
       "      <td>0</td>\n",
       "      <td>0</td>\n",
       "    </tr>\n",
       "  </tbody>\n",
       "</table>\n",
       "<p>700 rows × 24 columns</p>\n",
       "</div>"
      ],
      "text/plain": [
       "     Age  Job  Credit amount  Duration  Sex_female  Sex_male  Housing_free  \\\n",
       "0     31    2           4473        36           0         1             0   \n",
       "1     46    2           1829        15           0         1             0   \n",
       "2     27    1           7418        60           0         1             0   \n",
       "3     27    2           1185        12           1         0             0   \n",
       "4     27    2           1237         6           1         0             0   \n",
       "..   ...  ...            ...       ...         ...       ...           ...   \n",
       "695   41    1           5954        42           1         0             0   \n",
       "696   28    2           1887        18           0         1             0   \n",
       "697   63    1           1655        12           0         1             0   \n",
       "698   49    1           2096        12           0         1             0   \n",
       "699   37    2           3676         6           0         1             0   \n",
       "\n",
       "     Housing_own  Housing_rent  Saving accounts_little  ...  \\\n",
       "0              1             0                       1  ...   \n",
       "1              1             0                       1  ...   \n",
       "2              1             0                       0  ...   \n",
       "3              1             0                       1  ...   \n",
       "4              1             0                       0  ...   \n",
       "..           ...           ...                     ...  ...   \n",
       "695            1             0                       1  ...   \n",
       "696            1             0                       0  ...   \n",
       "697            1             0                       1  ...   \n",
       "698            1             0                       1  ...   \n",
       "699            0             1                       1  ...   \n",
       "\n",
       "     Checking account_moderate  Checking account_rich  Purpose_business  \\\n",
       "0                            0                      1                 0   \n",
       "1                            0                      0                 0   \n",
       "2                            1                      0                 0   \n",
       "3                            0                      0                 1   \n",
       "4                            0                      0                 0   \n",
       "..                         ...                    ...               ...   \n",
       "695                          1                      0                 1   \n",
       "696                          1                      0                 1   \n",
       "697                          0                      0                 0   \n",
       "698                          0                      0                 0   \n",
       "699                          0                      0                 0   \n",
       "\n",
       "     Purpose_car  Purpose_domestic appliances  Purpose_education  \\\n",
       "0              0                            0                  0   \n",
       "1              0                            0                  0   \n",
       "2              0                            0                  0   \n",
       "3              0                            0                  0   \n",
       "4              0                            0                  0   \n",
       "..           ...                          ...                ...   \n",
       "695            0                            0                  0   \n",
       "696            0                            0                  0   \n",
       "697            0                            0                  0   \n",
       "698            0                            0                  1   \n",
       "699            1                            0                  0   \n",
       "\n",
       "     Purpose_furniture/equipment  Purpose_radio/TV  Purpose_repairs  \\\n",
       "0                              0                 1                0   \n",
       "1                              0                 1                0   \n",
       "2                              0                 1                0   \n",
       "3                              0                 0                0   \n",
       "4                              0                 1                0   \n",
       "..                           ...               ...              ...   \n",
       "695                            0                 0                0   \n",
       "696                            0                 0                0   \n",
       "697                            0                 1                0   \n",
       "698                            0                 0                0   \n",
       "699                            0                 0                0   \n",
       "\n",
       "     Purpose_vacation/others  \n",
       "0                          0  \n",
       "1                          0  \n",
       "2                          0  \n",
       "3                          0  \n",
       "4                          0  \n",
       "..                       ...  \n",
       "695                        0  \n",
       "696                        0  \n",
       "697                        0  \n",
       "698                        0  \n",
       "699                        0  \n",
       "\n",
       "[700 rows x 24 columns]"
      ]
     },
     "execution_count": 13,
     "metadata": {},
     "output_type": "execute_result"
    }
   ],
   "source": [
    "X_train"
   ]
  },
  {
   "cell_type": "code",
   "execution_count": 14,
   "id": "8d597184",
   "metadata": {},
   "outputs": [],
   "source": [
    "model = DecisionTreeClassifier()"
   ]
  },
  {
   "cell_type": "code",
   "execution_count": 15,
   "id": "7124d675",
   "metadata": {},
   "outputs": [
    {
     "data": {
      "text/plain": [
       "DecisionTreeClassifier()"
      ]
     },
     "execution_count": 15,
     "metadata": {},
     "output_type": "execute_result"
    }
   ],
   "source": [
    "model.fit(X_train,y_train)"
   ]
  },
  {
   "cell_type": "code",
   "execution_count": 16,
   "id": "d0bc463d",
   "metadata": {},
   "outputs": [
    {
     "data": {
      "text/plain": [
       "array([0.13773673, 0.02497243, 0.29138746, 0.16281646, 0.02278912,\n",
       "       0.01433319, 0.01641795, 0.0145695 , 0.02086168, 0.03858553,\n",
       "       0.00510204, 0.00757847, 0.        , 0.06747871, 0.04923547,\n",
       "       0.00354502, 0.01761003, 0.00612245, 0.        , 0.01526601,\n",
       "       0.03417373, 0.04627427, 0.00314375, 0.        ])"
      ]
     },
     "execution_count": 16,
     "metadata": {},
     "output_type": "execute_result"
    }
   ],
   "source": [
    "model.feature_importances_"
   ]
  },
  {
   "cell_type": "code",
   "execution_count": 17,
   "id": "de34088b",
   "metadata": {},
   "outputs": [
    {
     "data": {
      "text/plain": [
       "Index(['Age', 'Job', 'Credit amount', 'Duration', 'Sex_female', 'Sex_male',\n",
       "       'Housing_free', 'Housing_own', 'Housing_rent', 'Saving accounts_little',\n",
       "       'Saving accounts_moderate', 'Saving accounts_quite rich',\n",
       "       'Saving accounts_rich', 'Checking account_little',\n",
       "       'Checking account_moderate', 'Checking account_rich',\n",
       "       'Purpose_business', 'Purpose_car', 'Purpose_domestic appliances',\n",
       "       'Purpose_education', 'Purpose_furniture/equipment', 'Purpose_radio/TV',\n",
       "       'Purpose_repairs', 'Purpose_vacation/others'],\n",
       "      dtype='object')"
      ]
     },
     "execution_count": 17,
     "metadata": {},
     "output_type": "execute_result"
    }
   ],
   "source": [
    "X_train.columns"
   ]
  },
  {
   "cell_type": "code",
   "execution_count": 18,
   "id": "f6d8fead",
   "metadata": {},
   "outputs": [
    {
     "data": {
      "image/png": "[encoded data removed]",
      "text/plain": [
       "<Figure size 1440x720 with 1 Axes>"
      ]
     },
     "metadata": {
      "needs_background": "light"
     },
     "output_type": "display_data"
    }
   ],
   "source": [
    "plt.figure(figsize = (20,10))\n",
    "plt.bar(x=X_train.columns,height=model.feature_importances_)\n",
    "plt.xticks(rotation=90)\n",
    "plt.grid()\n",
    "plt.show()"
   ]
  },
  {
   "cell_type": "code",
   "execution_count": 19,
   "id": "92436ace",
   "metadata": {},
   "outputs": [
    {
     "data": {
      "text/plain": [
       "array([ 2,  3,  0, 13, 14, 21,  9, 20,  1,  4,  8, 16,  6, 19,  7,  5, 11,\n",
       "       17, 10, 15, 22, 12, 18, 23])"
      ]
     },
     "execution_count": 19,
     "metadata": {},
     "output_type": "execute_result"
    }
   ],
   "source": [
    "np.argsort(model.feature_importances_)[::-1]"
   ]
  },
  {
   "cell_type": "code",
   "execution_count": 20,
   "id": "e9f8a86c",
   "metadata": {},
   "outputs": [],
   "source": [
    "order_columns = X_train.columns[np.argsort(model.feature_importances_)[::-1]]"
   ]
  },
  {
   "cell_type": "code",
   "execution_count": 21,
   "id": "4ea109b6",
   "metadata": {},
   "outputs": [],
   "source": [
    "order_importance = np.sort(model.feature_importances_)[::-1]"
   ]
  },
  {
   "cell_type": "code",
   "execution_count": 22,
   "id": "959e4210",
   "metadata": {},
   "outputs": [
    {
     "data": {
      "image/png": "[encoded data removed]",
      "text/plain": [
       "<Figure size 1440x720 with 1 Axes>"
      ]
     },
     "metadata": {
      "needs_background": "light"
     },
     "output_type": "display_data"
    }
   ],
   "source": [
    "plt.figure(figsize = (20,10))\n",
    "plt.bar(x=order_columns,height=order_importance)\n",
    "plt.xticks(rotation=90)\n",
    "plt.grid()\n",
    "plt.show()"
   ]
  },
  {
   "cell_type": "code",
   "execution_count": 23,
   "id": "f062a72f",
   "metadata": {},
   "outputs": [],
   "source": [
    "### IMPORTANCIA DE LAS CARACTERISTICAS "
   ]
  },
  {
   "cell_type": "code",
   "execution_count": 24,
   "id": "71eb553a",
   "metadata": {},
   "outputs": [],
   "source": [
    "### REGRESION LOGISTICA"
   ]
  },
  {
   "cell_type": "code",
   "execution_count": 25,
   "id": "55246f8a",
   "metadata": {},
   "outputs": [],
   "source": [
    "from sklearn.linear_model import LogisticRegression"
   ]
  },
  {
   "cell_type": "code",
   "execution_count": 26,
   "id": "15c75372",
   "metadata": {},
   "outputs": [],
   "source": [
    "from sklearn.preprocessing import MinMaxScaler"
   ]
  },
  {
   "cell_type": "code",
   "execution_count": 27,
   "id": "361f3706",
   "metadata": {},
   "outputs": [],
   "source": [
    "X_train_scaled = MinMaxScaler().fit_transform(X_train)"
   ]
  },
  {
   "cell_type": "code",
   "execution_count": 28,
   "id": "6e2b9b9b",
   "metadata": {},
   "outputs": [],
   "source": [
    "model = LogisticRegression()"
   ]
  },
  {
   "cell_type": "code",
   "execution_count": 29,
   "id": "38220f55",
   "metadata": {},
   "outputs": [
    {
     "data": {
      "text/plain": [
       "LogisticRegression()"
      ]
     },
     "execution_count": 29,
     "metadata": {},
     "output_type": "execute_result"
    }
   ],
   "source": [
    "model.fit(X_train_scaled, y_train)"
   ]
  },
  {
   "cell_type": "code",
   "execution_count": 30,
   "id": "abb1f65b",
   "metadata": {},
   "outputs": [
    {
     "data": {
      "text/plain": [
       "array([[ 0.835423  ,  0.22589944, -0.84641275, -1.65275004, -0.17648599,\n",
       "         0.17627164, -0.06978226,  0.19162547, -0.12205756, -0.75798873,\n",
       "        -0.61445739, -0.0168324 ,  0.4072842 , -1.58304637, -1.21149862,\n",
       "        -0.53892366, -0.02147902,  0.10660812,  0.06698805, -0.61955824,\n",
       "         0.21115495,  0.55444807, -0.22076645, -0.07760984]])"
      ]
     },
     "execution_count": 30,
     "metadata": {},
     "output_type": "execute_result"
    }
   ],
   "source": [
    "model.coef_"
   ]
  },
  {
   "cell_type": "code",
   "execution_count": 31,
   "id": "542b6df2",
   "metadata": {},
   "outputs": [
    {
     "data": {
      "image/png": "[encoded data removed]",
      "text/plain": [
       "<Figure size 1440x720 with 1 Axes>"
      ]
     },
     "metadata": {
      "needs_background": "light"
     },
     "output_type": "display_data"
    }
   ],
   "source": [
    "plt.figure(figsize = (20,10))\n",
    "plt.bar(x=X_train.columns,height=model.coef_[0])\n",
    "plt.xticks(rotation=90)\n",
    "plt.grid()\n",
    "plt.show()"
   ]
  },
  {
   "cell_type": "code",
   "execution_count": 32,
   "id": "f89d84a1",
   "metadata": {},
   "outputs": [],
   "source": [
    "### EVALUACION DE MODELOS"
   ]
  },
  {
   "cell_type": "code",
   "execution_count": 33,
   "id": "7aaefd64",
   "metadata": {},
   "outputs": [],
   "source": [
    "final_pipeline = Pipeline(\n",
    "[\n",
    "    (\"preprocesameinto\",column_transformer),\n",
    "    (\"modelo\",DecisionTreeClassifier(max_depth=3))\n",
    "])"
   ]
  },
  {
   "cell_type": "code",
   "execution_count": 34,
   "id": "9a2a809c",
   "metadata": {},
   "outputs": [],
   "source": [
    "X_train = train[features]"
   ]
  },
  {
   "cell_type": "code",
   "execution_count": 35,
   "id": "a023713f",
   "metadata": {},
   "outputs": [],
   "source": [
    "results = cross_validate(final_pipeline,X_train,y_train_transform,cv=10,\n",
    "                         return_train_score=True,\n",
    "                        scoring=[\"f1\",\"accuracy\"])"
   ]
  },
  {
   "cell_type": "code",
   "execution_count": 36,
   "id": "e945a9aa",
   "metadata": {},
   "outputs": [
    {
     "name": "stdout",
     "output_type": "stream",
     "text": [
      "0.7228571428571429 +- 0.014568627181693663\n"
     ]
    }
   ],
   "source": [
    "print(results[\"test_accuracy\"].mean(),\"+-\",results[\"test_accuracy\"].std())"
   ]
  },
  {
   "cell_type": "code",
   "execution_count": 37,
   "id": "abddb728",
   "metadata": {},
   "outputs": [],
   "source": [
    "from sklearn.ensemble import RandomForestClassifier"
   ]
  },
  {
   "cell_type": "code",
   "execution_count": 38,
   "id": "70b165ce",
   "metadata": {},
   "outputs": [],
   "source": [
    "final_pipeline = Pipeline(\n",
    "[\n",
    "    (\"preprocesameinto\",column_transformer),\n",
    "    (\"modelo\",RandomForestClassifier(max_depth=3))\n",
    "])"
   ]
  },
  {
   "cell_type": "code",
   "execution_count": 39,
   "id": "6a7bb6d3",
   "metadata": {},
   "outputs": [],
   "source": [
    "results = cross_validate(final_pipeline,X_train,y_train_transform,cv=10,\n",
    "                         return_train_score=True,\n",
    "                        scoring=[\"f1\",\"accuracy\"])"
   ]
  },
  {
   "cell_type": "code",
   "execution_count": 40,
   "id": "a6da5a6a",
   "metadata": {},
   "outputs": [
    {
     "name": "stdout",
     "output_type": "stream",
     "text": [
      "0.7085714285714285 +- 0.01714285714285715\n"
     ]
    }
   ],
   "source": [
    "print(results[\"test_accuracy\"].mean(),\"+-\",results[\"test_accuracy\"].std())"
   ]
  },
  {
   "cell_type": "code",
   "execution_count": 41,
   "id": "14355e89",
   "metadata": {},
   "outputs": [],
   "source": [
    "from sklearn.svm import SVC"
   ]
  },
  {
   "cell_type": "code",
   "execution_count": 42,
   "id": "7ea43a9b",
   "metadata": {},
   "outputs": [],
   "source": [
    "final_pipeline = Pipeline(\n",
    "[\n",
    "    (\"preprocesameinto\",column_transformer),\n",
    "    (\"modelo\",SVC())\n",
    "])"
   ]
  },
  {
   "cell_type": "code",
   "execution_count": 43,
   "id": "8e4b3456",
   "metadata": {},
   "outputs": [],
   "source": [
    "results = cross_validate(final_pipeline,X_train,y_train_transform,cv=10,\n",
    "                         return_train_score=True,\n",
    "                        scoring=[\"f1\",\"accuracy\"])"
   ]
  },
  {
   "cell_type": "code",
   "execution_count": 44,
   "id": "ec190e27",
   "metadata": {},
   "outputs": [
    {
     "name": "stdout",
     "output_type": "stream",
     "text": [
      "0.7071428571428571 +- 0.01720227796970329\n"
     ]
    }
   ],
   "source": [
    "print(results[\"test_accuracy\"].mean(),\"+-\",results[\"test_accuracy\"].std())"
   ]
  },
  {
   "cell_type": "code",
   "execution_count": 45,
   "id": "d958f508",
   "metadata": {},
   "outputs": [],
   "source": [
    "############ AJUSTE DE HIPERPARAMETROS"
   ]
  },
  {
   "cell_type": "code",
   "execution_count": 46,
   "id": "b14955d8",
   "metadata": {},
   "outputs": [],
   "source": [
    "from sklearn.model_selection import GridSearchCV"
   ]
  },
  {
   "cell_type": "code",
   "execution_count": 47,
   "id": "f2bca11f",
   "metadata": {},
   "outputs": [],
   "source": [
    "grid = {'max_depth':[2,3,5,10],\n",
    "        'n_estimators':[50,100,200]}"
   ]
  },
  {
   "cell_type": "code",
   "execution_count": 48,
   "id": "4182d18a",
   "metadata": {},
   "outputs": [],
   "source": [
    "grid_search = GridSearchCV(\n",
    "RandomForestClassifier(),    \n",
    "param_grid=grid,\n",
    "cv=10,\n",
    "scoring=\"accuracy\")"
   ]
  },
  {
   "cell_type": "code",
   "execution_count": 49,
   "id": "acb4189b",
   "metadata": {},
   "outputs": [
    {
     "data": {
      "text/plain": [
       "ColumnTransformer(transformers=[('numeric pipeline',\n",
       "                                 Pipeline(steps=[('Imputacion con la media',\n",
       "                                                  SimpleImputer()),\n",
       "                                                 ('Escalado minmax',\n",
       "                                                  MinMaxScaler())]),\n",
       "                                 [0, 1, 2]),\n",
       "                                ('categorical pipeline',\n",
       "                                 Pipeline(steps=[('Imputacion con la moda',\n",
       "                                                  SimpleImputer(strategy='most_frequent')),\n",
       "                                                 ('Codificacion',\n",
       "                                                  OneHotEncoder(drop='first',\n",
       "                                                                sparse=False))]),\n",
       "                                 [3, 4, 5])])"
      ]
     },
     "execution_count": 49,
     "metadata": {},
     "output_type": "execute_result"
    }
   ],
   "source": [
    "column_transformer.fit(train[[\"Age\",\"Credit amount\",\"Duration\",\"Sex\",\"Purpose\",\"Housing\",]])"
   ]
  },
  {
   "cell_type": "code",
   "execution_count": 50,
   "id": "ad169263",
   "metadata": {},
   "outputs": [],
   "source": [
    "X_train_processed = column_transformer.transform(X_train)"
   ]
  },
  {
   "cell_type": "code",
   "execution_count": 51,
   "id": "88f250fb",
   "metadata": {},
   "outputs": [
    {
     "data": {
      "text/plain": [
       "GridSearchCV(cv=10, estimator=RandomForestClassifier(),\n",
       "             param_grid={'max_depth': [2, 3, 5, 10],\n",
       "                         'n_estimators': [50, 100, 200]},\n",
       "             scoring='accuracy')"
      ]
     },
     "execution_count": 51,
     "metadata": {},
     "output_type": "execute_result"
    }
   ],
   "source": [
    "grid_search.fit(X_train_processed,y_train_transform)"
   ]
  },
  {
   "cell_type": "code",
   "execution_count": 52,
   "id": "2d3e0710",
   "metadata": {},
   "outputs": [
    {
     "data": {
      "text/plain": [
       "{'max_depth': 5, 'n_estimators': 50}"
      ]
     },
     "execution_count": 52,
     "metadata": {},
     "output_type": "execute_result"
    }
   ],
   "source": [
    "grid_search.best_params_"
   ]
  },
  {
   "cell_type": "code",
   "execution_count": 53,
   "id": "4684111f",
   "metadata": {},
   "outputs": [
    {
     "data": {
      "text/plain": [
       "0.7157142857142857"
      ]
     },
     "execution_count": 53,
     "metadata": {},
     "output_type": "execute_result"
    }
   ],
   "source": [
    "grid_search.best_score_"
   ]
  },
  {
   "cell_type": "code",
   "execution_count": 54,
   "id": "ed5f3c11",
   "metadata": {},
   "outputs": [],
   "source": [
    "final_pipeline = Pipeline(\n",
    "[\n",
    "    (\"preprocesameinto\",column_transformer),\n",
    "    (\"modelo\",RandomForestClassifier(max_depth=3,n_estimators = 200))\n",
    "])"
   ]
  },
  {
   "cell_type": "code",
   "execution_count": 55,
   "id": "6a1b9b77",
   "metadata": {},
   "outputs": [
    {
     "data": {
      "text/plain": [
       "Pipeline(steps=[('preprocesameinto',\n",
       "                 ColumnTransformer(transformers=[('numeric pipeline',\n",
       "                                                  Pipeline(steps=[('Imputacion '\n",
       "                                                                   'con la '\n",
       "                                                                   'media',\n",
       "                                                                   SimpleImputer()),\n",
       "                                                                  ('Escalado '\n",
       "                                                                   'minmax',\n",
       "                                                                   MinMaxScaler())]),\n",
       "                                                  [0, 1, 2]),\n",
       "                                                 ('categorical pipeline',\n",
       "                                                  Pipeline(steps=[('Imputacion '\n",
       "                                                                   'con la '\n",
       "                                                                   'moda',\n",
       "                                                                   SimpleImputer(strategy='most_frequent')),\n",
       "                                                                  ('Codificacion',\n",
       "                                                                   OneHotEncoder(drop='first',\n",
       "                                                                                 sparse=False))]),\n",
       "                                                  [3, 4, 5])])),\n",
       "                ('modelo',\n",
       "                 RandomForestClassifier(max_depth=3, n_estimators=200))])"
      ]
     },
     "execution_count": 55,
     "metadata": {},
     "output_type": "execute_result"
    }
   ],
   "source": [
    "final_pipeline.fit(X_train,y_train)"
   ]
  },
  {
   "cell_type": "code",
   "execution_count": 56,
   "id": "2633915d",
   "metadata": {},
   "outputs": [
    {
     "data": {
      "text/plain": [
       "['modelrf.joblib']"
      ]
     },
     "execution_count": 56,
     "metadata": {},
     "output_type": "execute_result"
    }
   ],
   "source": [
    "joblib.dump(final_pipeline,'modelrf.joblib')"
   ]
  },
  {
   "cell_type": "code",
   "execution_count": null,
   "id": "e4506c57",
   "metadata": {},
   "outputs": [],
   "source": []
  },
  {
   "cell_type": "code",
   "execution_count": null,
   "id": "80c1efe5",
   "metadata": {},
   "outputs": [],
   "source": []
  },
  {
   "cell_type": "code",
   "execution_count": null,
   "id": "328b58bf",
   "metadata": {},
   "outputs": [],
   "source": []
  },
  {
   "cell_type": "code",
   "execution_count": null,
   "id": "a525e181",
   "metadata": {},
   "outputs": [],
   "source": []
  },
  {
   "cell_type": "code",
   "execution_count": null,
   "id": "2e97831d",
   "metadata": {},
   "outputs": [],
   "source": []
  }
 ],
 "metadata": {
  "kernelspec": {
   "display_name": "conda_python3",
   "language": "python",
   "name": "conda_python3"
  },
  "language_info": {
   "codemirror_mode": {
    "name": "ipython",
    "version": 3
   },
   "file_extension": ".py",
   "mimetype": "text/x-python",
   "name": "python",
   "nbconvert_exporter": "python",
   "pygments_lexer": "ipython3",
   "version": "3.8.12"
  }
 },
 "nbformat": 4,
 "nbformat_minor": 5
}
