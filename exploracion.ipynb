{
 "cells": [
  {
   "cell_type": "code",
   "execution_count": 1,
   "id": "f345bc66",
   "metadata": {},
   "outputs": [
    {
     "name": "stderr",
     "output_type": "stream",
     "text": [
      "Matplotlib is building the font cache; this may take a moment.\n"
     ]
    }
   ],
   "source": [
    "\n",
    "import pandas as pd\n",
    "import numpy as np\n",
    "from sklearn.model_selection import train_test_split\n",
    "from matplotlib import pyplot as plt"
   ]
  },
  {
   "cell_type": "code",
   "execution_count": 2,
   "id": "445d7e82",
   "metadata": {},
   "outputs": [],
   "source": [
    "df = pd.read_csv('s3://germancredit2/datos/original/german_credit_data.csv')"
   ]
  },
  {
   "cell_type": "code",
   "execution_count": 3,
   "id": "3c34d930",
   "metadata": {},
   "outputs": [
    {
     "data": {
      "text/html": [
       "<div>\n",
       "<style scoped>\n",
       "    .dataframe tbody tr th:only-of-type {\n",
       "        vertical-align: middle;\n",
       "    }\n",
       "\n",
       "    .dataframe tbody tr th {\n",
       "        vertical-align: top;\n",
       "    }\n",
       "\n",
       "    .dataframe thead th {\n",
       "        text-align: right;\n",
       "    }\n",
       "</style>\n",
       "<table border=\"1\" class=\"dataframe\">\n",
       "  <thead>\n",
       "    <tr style=\"text-align: right;\">\n",
       "      <th></th>\n",
       "      <th>Unnamed: 0</th>\n",
       "      <th>Age</th>\n",
       "      <th>Sex</th>\n",
       "      <th>Job</th>\n",
       "      <th>Housing</th>\n",
       "      <th>Saving accounts</th>\n",
       "      <th>Checking account</th>\n",
       "      <th>Credit amount</th>\n",
       "      <th>Duration</th>\n",
       "      <th>Purpose</th>\n",
       "      <th>Risk</th>\n",
       "    </tr>\n",
       "  </thead>\n",
       "  <tbody>\n",
       "    <tr>\n",
       "      <th>0</th>\n",
       "      <td>0</td>\n",
       "      <td>67</td>\n",
       "      <td>male</td>\n",
       "      <td>2</td>\n",
       "      <td>own</td>\n",
       "      <td>NaN</td>\n",
       "      <td>little</td>\n",
       "      <td>1169</td>\n",
       "      <td>6</td>\n",
       "      <td>radio/TV</td>\n",
       "      <td>good</td>\n",
       "    </tr>\n",
       "    <tr>\n",
       "      <th>1</th>\n",
       "      <td>1</td>\n",
       "      <td>22</td>\n",
       "      <td>female</td>\n",
       "      <td>2</td>\n",
       "      <td>own</td>\n",
       "      <td>little</td>\n",
       "      <td>moderate</td>\n",
       "      <td>5951</td>\n",
       "      <td>48</td>\n",
       "      <td>radio/TV</td>\n",
       "      <td>bad</td>\n",
       "    </tr>\n",
       "    <tr>\n",
       "      <th>2</th>\n",
       "      <td>2</td>\n",
       "      <td>49</td>\n",
       "      <td>male</td>\n",
       "      <td>1</td>\n",
       "      <td>own</td>\n",
       "      <td>little</td>\n",
       "      <td>NaN</td>\n",
       "      <td>2096</td>\n",
       "      <td>12</td>\n",
       "      <td>education</td>\n",
       "      <td>good</td>\n",
       "    </tr>\n",
       "    <tr>\n",
       "      <th>3</th>\n",
       "      <td>3</td>\n",
       "      <td>45</td>\n",
       "      <td>male</td>\n",
       "      <td>2</td>\n",
       "      <td>free</td>\n",
       "      <td>little</td>\n",
       "      <td>little</td>\n",
       "      <td>7882</td>\n",
       "      <td>42</td>\n",
       "      <td>furniture/equipment</td>\n",
       "      <td>good</td>\n",
       "    </tr>\n",
       "    <tr>\n",
       "      <th>4</th>\n",
       "      <td>4</td>\n",
       "      <td>53</td>\n",
       "      <td>male</td>\n",
       "      <td>2</td>\n",
       "      <td>free</td>\n",
       "      <td>little</td>\n",
       "      <td>little</td>\n",
       "      <td>4870</td>\n",
       "      <td>24</td>\n",
       "      <td>car</td>\n",
       "      <td>bad</td>\n",
       "    </tr>\n",
       "    <tr>\n",
       "      <th>...</th>\n",
       "      <td>...</td>\n",
       "      <td>...</td>\n",
       "      <td>...</td>\n",
       "      <td>...</td>\n",
       "      <td>...</td>\n",
       "      <td>...</td>\n",
       "      <td>...</td>\n",
       "      <td>...</td>\n",
       "      <td>...</td>\n",
       "      <td>...</td>\n",
       "      <td>...</td>\n",
       "    </tr>\n",
       "    <tr>\n",
       "      <th>995</th>\n",
       "      <td>995</td>\n",
       "      <td>31</td>\n",
       "      <td>female</td>\n",
       "      <td>1</td>\n",
       "      <td>own</td>\n",
       "      <td>little</td>\n",
       "      <td>NaN</td>\n",
       "      <td>1736</td>\n",
       "      <td>12</td>\n",
       "      <td>furniture/equipment</td>\n",
       "      <td>good</td>\n",
       "    </tr>\n",
       "    <tr>\n",
       "      <th>996</th>\n",
       "      <td>996</td>\n",
       "      <td>40</td>\n",
       "      <td>male</td>\n",
       "      <td>3</td>\n",
       "      <td>own</td>\n",
       "      <td>little</td>\n",
       "      <td>little</td>\n",
       "      <td>3857</td>\n",
       "      <td>30</td>\n",
       "      <td>car</td>\n",
       "      <td>good</td>\n",
       "    </tr>\n",
       "    <tr>\n",
       "      <th>997</th>\n",
       "      <td>997</td>\n",
       "      <td>38</td>\n",
       "      <td>male</td>\n",
       "      <td>2</td>\n",
       "      <td>own</td>\n",
       "      <td>little</td>\n",
       "      <td>NaN</td>\n",
       "      <td>804</td>\n",
       "      <td>12</td>\n",
       "      <td>radio/TV</td>\n",
       "      <td>good</td>\n",
       "    </tr>\n",
       "    <tr>\n",
       "      <th>998</th>\n",
       "      <td>998</td>\n",
       "      <td>23</td>\n",
       "      <td>male</td>\n",
       "      <td>2</td>\n",
       "      <td>free</td>\n",
       "      <td>little</td>\n",
       "      <td>little</td>\n",
       "      <td>1845</td>\n",
       "      <td>45</td>\n",
       "      <td>radio/TV</td>\n",
       "      <td>bad</td>\n",
       "    </tr>\n",
       "    <tr>\n",
       "      <th>999</th>\n",
       "      <td>999</td>\n",
       "      <td>27</td>\n",
       "      <td>male</td>\n",
       "      <td>2</td>\n",
       "      <td>own</td>\n",
       "      <td>moderate</td>\n",
       "      <td>moderate</td>\n",
       "      <td>4576</td>\n",
       "      <td>45</td>\n",
       "      <td>car</td>\n",
       "      <td>good</td>\n",
       "    </tr>\n",
       "  </tbody>\n",
       "</table>\n",
       "<p>1000 rows × 11 columns</p>\n",
       "</div>"
      ],
      "text/plain": [
       "     Unnamed: 0  Age     Sex  Job Housing Saving accounts Checking account  \\\n",
       "0             0   67    male    2     own             NaN           little   \n",
       "1             1   22  female    2     own          little         moderate   \n",
       "2             2   49    male    1     own          little              NaN   \n",
       "3             3   45    male    2    free          little           little   \n",
       "4             4   53    male    2    free          little           little   \n",
       "..          ...  ...     ...  ...     ...             ...              ...   \n",
       "995         995   31  female    1     own          little              NaN   \n",
       "996         996   40    male    3     own          little           little   \n",
       "997         997   38    male    2     own          little              NaN   \n",
       "998         998   23    male    2    free          little           little   \n",
       "999         999   27    male    2     own        moderate         moderate   \n",
       "\n",
       "     Credit amount  Duration              Purpose  Risk  \n",
       "0             1169         6             radio/TV  good  \n",
       "1             5951        48             radio/TV   bad  \n",
       "2             2096        12            education  good  \n",
       "3             7882        42  furniture/equipment  good  \n",
       "4             4870        24                  car   bad  \n",
       "..             ...       ...                  ...   ...  \n",
       "995           1736        12  furniture/equipment  good  \n",
       "996           3857        30                  car  good  \n",
       "997            804        12             radio/TV  good  \n",
       "998           1845        45             radio/TV   bad  \n",
       "999           4576        45                  car  good  \n",
       "\n",
       "[1000 rows x 11 columns]"
      ]
     },
     "execution_count": 3,
     "metadata": {},
     "output_type": "execute_result"
    }
   ],
   "source": [
    "df"
   ]
  },
  {
   "cell_type": "code",
   "execution_count": 4,
   "id": "0adcc50e",
   "metadata": {},
   "outputs": [
    {
     "name": "stdout",
     "output_type": "stream",
     "text": [
      "<class 'pandas.core.frame.DataFrame'>\n",
      "RangeIndex: 1000 entries, 0 to 999\n",
      "Data columns (total 11 columns):\n",
      " #   Column            Non-Null Count  Dtype \n",
      "---  ------            --------------  ----- \n",
      " 0   Unnamed: 0        1000 non-null   int64 \n",
      " 1   Age               1000 non-null   int64 \n",
      " 2   Sex               1000 non-null   object\n",
      " 3   Job               1000 non-null   int64 \n",
      " 4   Housing           1000 non-null   object\n",
      " 5   Saving accounts   817 non-null    object\n",
      " 6   Checking account  606 non-null    object\n",
      " 7   Credit amount     1000 non-null   int64 \n",
      " 8   Duration          1000 non-null   int64 \n",
      " 9   Purpose           1000 non-null   object\n",
      " 10  Risk              1000 non-null   object\n",
      "dtypes: int64(5), object(6)\n",
      "memory usage: 86.1+ KB\n"
     ]
    }
   ],
   "source": [
    "\n",
    "df.info()"
   ]
  },
  {
   "cell_type": "code",
   "execution_count": 5,
   "id": "2dad0de8",
   "metadata": {},
   "outputs": [
    {
     "data": {
      "text/plain": [
       "Unnamed: 0            0\n",
       "Age                   0\n",
       "Sex                   0\n",
       "Job                   0\n",
       "Housing               0\n",
       "Saving accounts     183\n",
       "Checking account    394\n",
       "Credit amount         0\n",
       "Duration              0\n",
       "Purpose               0\n",
       "Risk                  0\n",
       "dtype: int64"
      ]
     },
     "execution_count": 5,
     "metadata": {},
     "output_type": "execute_result"
    }
   ],
   "source": [
    "\n",
    "df.isna().sum()"
   ]
  },
  {
   "cell_type": "code",
   "execution_count": 6,
   "id": "2e06bf90",
   "metadata": {},
   "outputs": [
    {
     "data": {
      "text/plain": [
       "good    0.7\n",
       "bad     0.3\n",
       "Name: Risk, dtype: float64"
      ]
     },
     "execution_count": 6,
     "metadata": {},
     "output_type": "execute_result"
    }
   ],
   "source": [
    "\n",
    "df[\"Risk\"].value_counts()/df[\"Risk\"].count()"
   ]
  },
  {
   "cell_type": "code",
   "execution_count": 7,
   "id": "a4138e01",
   "metadata": {},
   "outputs": [],
   "source": [
    "\n",
    "train,test = train_test_split(df,test_size = 0.3,random_state = 42 ,stratify = df[\"Risk\"])"
   ]
  },
  {
   "cell_type": "code",
   "execution_count": 8,
   "id": "e9ee540f",
   "metadata": {},
   "outputs": [
    {
     "data": {
      "text/plain": [
       "good    0.7\n",
       "bad     0.3\n",
       "Name: Risk, dtype: float64"
      ]
     },
     "execution_count": 8,
     "metadata": {},
     "output_type": "execute_result"
    }
   ],
   "source": [
    "\n",
    "train[\"Risk\"].value_counts()/train[\"Risk\"].count()"
   ]
  },
  {
   "cell_type": "code",
   "execution_count": 9,
   "id": "529b87b5",
   "metadata": {},
   "outputs": [
    {
     "data": {
      "text/plain": [
       "good    0.7\n",
       "bad     0.3\n",
       "Name: Risk, dtype: float64"
      ]
     },
     "execution_count": 9,
     "metadata": {},
     "output_type": "execute_result"
    }
   ],
   "source": [
    "\n",
    "test[\"Risk\"].value_counts()/test[\"Risk\"].count()"
   ]
  },
  {
   "cell_type": "code",
   "execution_count": 10,
   "id": "5932a2ff",
   "metadata": {},
   "outputs": [],
   "source": [
    "\n",
    "train.to_csv(\"s3://germancreditdata5/Datos/Train/train.csv\",index = False)"
   ]
  },
  {
   "cell_type": "code",
   "execution_count": 11,
   "id": "e73972bc",
   "metadata": {},
   "outputs": [],
   "source": [
    "\n",
    "test.to_csv(\"s3://germancreditdata5/Datos/Test/test.csv\",index = False)"
   ]
  },
  {
   "cell_type": "code",
   "execution_count": 12,
   "id": "93369259",
   "metadata": {},
   "outputs": [
    {
     "data": {
      "image/png": "[encoded data removed]",
      "text/plain": [
       "<Figure size 1008x576 with 6 Axes>"
      ]
     },
     "metadata": {
      "needs_background": "light"
     },
     "output_type": "display_data"
    }
   ],
   "source": [
    "\n",
    "train.hist(figsize=(14,8),alpha=0.5,color='r')\n",
    "plt.show()"
   ]
  },
  {
   "cell_type": "code",
   "execution_count": 13,
   "id": "5772cec9",
   "metadata": {},
   "outputs": [
    {
     "name": "stdout",
     "output_type": "stream",
     "text": [
      "Minimum:250.00\n",
      "Mean:3236.12\n",
      "Median:2290.00\n",
      "Mode:1478.00\n",
      "Maximum:18424.00\n",
      "\n"
     ]
    },
    {
     "data": {
      "image/png": "[encoded data removed]",
      "text/plain": [
       "<Figure size 720x288 with 1 Axes>"
      ]
     },
     "metadata": {
      "needs_background": "light"
     },
     "output_type": "display_data"
    }
   ],
   "source": [
    "# Get the variable to examine\n",
    "var = train['Credit amount']\n",
    "\n",
    "# Get statistics\n",
    "min_val = var.min()\n",
    "max_val = var.max()\n",
    "mean_val = var.mean()\n",
    "med_val = var.median()\n",
    "mod_val = var.mode()[0]\n",
    "\n",
    "print('Minimum:{:.2f}\\nMean:{:.2f}\\nMedian:{:.2f}\\nMode:{:.2f}\\nMaximum:{:.2f}\\n'.format(min_val,\n",
    "                                                                                        mean_val,\n",
    "                                                                                        med_val,\n",
    "                                                                                        mod_val,\n",
    "                                                                                        max_val))\n",
    "\n",
    "# Create a Figure\n",
    "fig = plt.figure(figsize=(10,4))\n",
    "\n",
    "# Plot a histogram\n",
    "plt.hist(var)\n",
    "\n",
    "# Add lines for the statistics\n",
    "plt.axvline(x=min_val, color = 'gray', linestyle='dashed', linewidth = 2)\n",
    "plt.axvline(x=mean_val, color = 'cyan', linestyle='dashed', linewidth = 2)\n",
    "plt.axvline(x=med_val, color = 'red', linestyle='dashed', linewidth = 2)\n",
    "plt.axvline(x=mod_val, color = 'yellow', linestyle='dashed', linewidth = 2)\n",
    "plt.axvline(x=max_val, color = 'gray', linestyle='dashed', linewidth = 2)\n",
    "\n",
    "# Add titles and labels\n",
    "plt.title('Data Distribution')\n",
    "plt.xlabel('Value')\n",
    "plt.ylabel('Frequency')\n",
    "\n",
    "# Show the figure\n",
    "fig.show()"
   ]
  },
  {
   "cell_type": "code",
   "execution_count": 14,
   "id": "31f1081a",
   "metadata": {},
   "outputs": [
    {
     "data": {
      "text/plain": [
       "<seaborn.axisgrid.PairGrid at 0x7f97e5179d90>"
      ]
     },
     "execution_count": 14,
     "metadata": {},
     "output_type": "execute_result"
    },
    {
     "data": {
      "image/png": "[encoded data removed]",
      "text/plain": [
       "<Figure size 900x900 with 30 Axes>"
      ]
     },
     "metadata": {
      "needs_background": "light"
     },
     "output_type": "display_data"
    }
   ],
   "source": [
    "\n",
    "import seaborn as sns\n",
    "sns.pairplot(train)"
   ]
  },
  {
   "cell_type": "code",
   "execution_count": 15,
   "id": "0d366c1c",
   "metadata": {},
   "outputs": [
    {
     "name": "stdout",
     "output_type": "stream",
     "text": [
      "Minimum:250.00\n",
      "Mean:3236.12\n",
      "Median:2290.00\n",
      "Mode:1478.00\n",
      "Maximum:18424.00\n",
      "\n"
     ]
    },
    {
     "data": {
      "image/png": "[encoded data removed]",
      "text/plain": [
       "<Figure size 720x288 with 2 Axes>"
      ]
     },
     "metadata": {
      "needs_background": "light"
     },
     "output_type": "display_data"
    }
   ],
   "source": [
    "# Create a function that we can re-use\n",
    "def show_distribution(var_data):\n",
    "    from matplotlib import pyplot as plt\n",
    "\n",
    "    # Get statistics\n",
    "    min_val = var_data.min()\n",
    "    max_val = var_data.max()\n",
    "    mean_val = var_data.mean()\n",
    "    med_val = var_data.median()\n",
    "    mod_val = var_data.mode()[0]\n",
    "\n",
    "    print('Minimum:{:.2f}\\nMean:{:.2f}\\nMedian:{:.2f}\\nMode:{:.2f}\\nMaximum:{:.2f}\\n'.format(min_val,\n",
    "                                                                                            mean_val,\n",
    "                                                                                            med_val,\n",
    "                                                                                            mod_val,\n",
    "                                                                                            max_val))\n",
    "\n",
    "    # Create a figure for 2 subplots (2 rows, 1 column)\n",
    "    fig, ax = plt.subplots(2, 1, figsize = (10,4))\n",
    "\n",
    "    # Plot the histogram   \n",
    "    ax[0].hist(var_data)\n",
    "    ax[0].set_ylabel('Frequency')\n",
    "\n",
    "    # Add lines for the mean, median, and mode\n",
    "    ax[0].axvline(x=min_val, color = 'gray', linestyle='dashed', linewidth = 2)\n",
    "    ax[0].axvline(x=mean_val, color = 'cyan', linestyle='dashed', linewidth = 2)\n",
    "    ax[0].axvline(x=med_val, color = 'red', linestyle='dashed', linewidth = 2)\n",
    "    ax[0].axvline(x=mod_val, color = 'yellow', linestyle='dashed', linewidth = 2)\n",
    "    ax[0].axvline(x=max_val, color = 'gray', linestyle='dashed', linewidth = 2)\n",
    "\n",
    "    # Plot the boxplot   \n",
    "    ax[1].boxplot(var_data, vert=False)\n",
    "    ax[1].set_xlabel('Value')\n",
    "\n",
    "    # Add a title to the Figure\n",
    "    fig.suptitle('Data Distribution')\n",
    "\n",
    "    # Show the figure\n",
    "    fig.show()\n",
    "\n",
    "# Get the variable to examine\n",
    "col = train['Credit amount']\n",
    "# Call the function\n",
    "show_distribution(col)"
   ]
  },
  {
   "cell_type": "code",
   "execution_count": 16,
   "id": "f885f140",
   "metadata": {},
   "outputs": [
    {
     "data": {
      "text/html": [
       "<div>\n",
       "<style scoped>\n",
       "    .dataframe tbody tr th:only-of-type {\n",
       "        vertical-align: middle;\n",
       "    }\n",
       "\n",
       "    .dataframe tbody tr th {\n",
       "        vertical-align: top;\n",
       "    }\n",
       "\n",
       "    .dataframe thead th {\n",
       "        text-align: right;\n",
       "    }\n",
       "</style>\n",
       "<table border=\"1\" class=\"dataframe\">\n",
       "  <thead>\n",
       "    <tr style=\"text-align: right;\">\n",
       "      <th>Risk</th>\n",
       "      <th>bad</th>\n",
       "      <th>good</th>\n",
       "      <th>All</th>\n",
       "    </tr>\n",
       "    <tr>\n",
       "      <th>Housing</th>\n",
       "      <th></th>\n",
       "      <th></th>\n",
       "      <th></th>\n",
       "    </tr>\n",
       "  </thead>\n",
       "  <tbody>\n",
       "    <tr>\n",
       "      <th>free</th>\n",
       "      <td>29</td>\n",
       "      <td>45</td>\n",
       "      <td>74</td>\n",
       "    </tr>\n",
       "    <tr>\n",
       "      <th>own</th>\n",
       "      <td>133</td>\n",
       "      <td>371</td>\n",
       "      <td>504</td>\n",
       "    </tr>\n",
       "    <tr>\n",
       "      <th>rent</th>\n",
       "      <td>48</td>\n",
       "      <td>74</td>\n",
       "      <td>122</td>\n",
       "    </tr>\n",
       "    <tr>\n",
       "      <th>All</th>\n",
       "      <td>210</td>\n",
       "      <td>490</td>\n",
       "      <td>700</td>\n",
       "    </tr>\n",
       "  </tbody>\n",
       "</table>\n",
       "</div>"
      ],
      "text/plain": [
       "Risk     bad  good  All\n",
       "Housing                \n",
       "free      29    45   74\n",
       "own      133   371  504\n",
       "rent      48    74  122\n",
       "All      210   490  700"
      ]
     },
     "execution_count": 16,
     "metadata": {},
     "output_type": "execute_result"
    }
   ],
   "source": [
    "\n",
    "pd.crosstab(index = train['Housing'],columns = train['Risk'],margins = True)"
   ]
  },
  {
   "cell_type": "code",
   "execution_count": 17,
   "id": "56de1605",
   "metadata": {},
   "outputs": [],
   "source": [
    "tabla_sex = pd.crosstab(index = train['Sex'],columns = train['Risk'],margins = True)"
   ]
  },
  {
   "cell_type": "code",
   "execution_count": null,
   "id": "69287f25",
   "metadata": {},
   "outputs": [],
   "source": []
  },
  {
   "cell_type": "code",
   "execution_count": 18,
   "id": "b608dfac",
   "metadata": {},
   "outputs": [],
   "source": [
    "\n",
    "from sklearn.impute import SimpleImputer"
   ]
  },
  {
   "cell_type": "code",
   "execution_count": 19,
   "id": "98d9ee94",
   "metadata": {},
   "outputs": [],
   "source": [
    "\n",
    "X_train = train[['Age','Credit amount','Duration']]"
   ]
  },
  {
   "cell_type": "code",
   "execution_count": 20,
   "id": "5c7683a4",
   "metadata": {},
   "outputs": [],
   "source": [
    "\n",
    "imputer = SimpleImputer(strategy = 'mean')"
   ]
  },
  {
   "cell_type": "code",
   "execution_count": 21,
   "id": "c5fea3a8",
   "metadata": {},
   "outputs": [
    {
     "data": {
      "text/plain": [
       "SimpleImputer()"
      ]
     },
     "execution_count": 21,
     "metadata": {},
     "output_type": "execute_result"
    }
   ],
   "source": [
    "\n",
    "imputer.fit(X_train)"
   ]
  },
  {
   "cell_type": "code",
   "execution_count": 22,
   "id": "54179bbd",
   "metadata": {},
   "outputs": [
    {
     "data": {
      "text/plain": [
       "array([  35.40285714, 3236.12142857,   21.04857143])"
      ]
     },
     "execution_count": 22,
     "metadata": {},
     "output_type": "execute_result"
    }
   ],
   "source": [
    "\n",
    "imputer.statistics_\n"
   ]
  },
  {
   "cell_type": "code",
   "execution_count": 23,
   "id": "f54c2f14",
   "metadata": {},
   "outputs": [
    {
     "name": "stderr",
     "output_type": "stream",
     "text": [
      "/home/ec2-user/anaconda3/envs/python3/lib/python3.8/site-packages/sklearn/base.py:445: UserWarning: X does not have valid feature names, but SimpleImputer was fitted with feature names\n",
      "  warnings.warn(\n"
     ]
    },
    {
     "data": {
      "text/plain": [
       "array([[  21.        , 1000.        ,   21.04857143],\n",
       "       [  35.40285714, 3236.12142857,   12.        ]])"
      ]
     },
     "execution_count": 23,
     "metadata": {},
     "output_type": "execute_result"
    }
   ],
   "source": [
    "\n",
    "imputer.transform([[21,1000,np.nan],\n",
    "                  [np.nan,np.nan,12]])"
   ]
  },
  {
   "cell_type": "code",
   "execution_count": 24,
   "id": "d6973d5e",
   "metadata": {},
   "outputs": [
    {
     "data": {
      "text/plain": [
       "array([[3.100e+01, 4.473e+03, 3.600e+01],\n",
       "       [4.600e+01, 1.829e+03, 1.500e+01],\n",
       "       [2.700e+01, 7.418e+03, 6.000e+01],\n",
       "       ...,\n",
       "       [6.300e+01, 1.655e+03, 1.200e+01],\n",
       "       [4.900e+01, 2.096e+03, 1.200e+01],\n",
       "       [3.700e+01, 3.676e+03, 6.000e+00]])"
      ]
     },
     "execution_count": 24,
     "metadata": {},
     "output_type": "execute_result"
    }
   ],
   "source": [
    "\n",
    "imputer.fit_transform(X_train)"
   ]
  },
  {
   "cell_type": "code",
   "execution_count": 25,
   "id": "b59ade82",
   "metadata": {},
   "outputs": [
    {
     "name": "stdout",
     "output_type": "stream",
     "text": [
      "<class 'pandas.core.frame.DataFrame'>\n",
      "Int64Index: 700 entries, 328 to 617\n",
      "Data columns (total 11 columns):\n",
      " #   Column            Non-Null Count  Dtype \n",
      "---  ------            --------------  ----- \n",
      " 0   Unnamed: 0        700 non-null    int64 \n",
      " 1   Age               700 non-null    int64 \n",
      " 2   Sex               700 non-null    object\n",
      " 3   Job               700 non-null    int64 \n",
      " 4   Housing           700 non-null    object\n",
      " 5   Saving accounts   575 non-null    object\n",
      " 6   Checking account  426 non-null    object\n",
      " 7   Credit amount     700 non-null    int64 \n",
      " 8   Duration          700 non-null    int64 \n",
      " 9   Purpose           700 non-null    object\n",
      " 10  Risk              700 non-null    object\n",
      "dtypes: int64(5), object(6)\n",
      "memory usage: 81.8+ KB\n"
     ]
    }
   ],
   "source": [
    "\n",
    "train.info()"
   ]
  },
  {
   "cell_type": "code",
   "execution_count": 26,
   "id": "b3b06651",
   "metadata": {},
   "outputs": [],
   "source": [
    "\n",
    "X_train = train[['Saving accounts','Checking account']]\n",
    "imputer = SimpleImputer(strategy = 'most_frequent')\n",
    "X_train = pd.DataFrame(imputer.fit_transform(X_train),columns = ['Saving accounts','Checking account'])"
   ]
  },
  {
   "cell_type": "code",
   "execution_count": 27,
   "id": "b6626304",
   "metadata": {},
   "outputs": [
    {
     "name": "stdout",
     "output_type": "stream",
     "text": [
      "<class 'pandas.core.frame.DataFrame'>\n",
      "RangeIndex: 700 entries, 0 to 699\n",
      "Data columns (total 2 columns):\n",
      " #   Column            Non-Null Count  Dtype \n",
      "---  ------            --------------  ----- \n",
      " 0   Saving accounts   700 non-null    object\n",
      " 1   Checking account  700 non-null    object\n",
      "dtypes: object(2)\n",
      "memory usage: 11.1+ KB\n"
     ]
    }
   ],
   "source": [
    "\n",
    "X_train.info()"
   ]
  },
  {
   "cell_type": "code",
   "execution_count": 28,
   "id": "08df6e7c",
   "metadata": {},
   "outputs": [],
   "source": [
    "\n",
    "from sklearn.impute import KNNImputer"
   ]
  },
  {
   "cell_type": "code",
   "execution_count": 29,
   "id": "2a5ee9b3",
   "metadata": {},
   "outputs": [],
   "source": [
    "dex = [[40,19,3.0],\n",
    "      [42,20,3.1],\n",
    "      [44,21,np.nan],\n",
    "      [45,23,4.1],\n",
    "      [39,25,5.0],\n",
    "      [80,27,np.nan],\n",
    "      [82,30,4.8]\n",
    "      ]"
   ]
  },
  {
   "cell_type": "code",
   "execution_count": 30,
   "id": "9b9a3614",
   "metadata": {},
   "outputs": [],
   "source": [
    "\n",
    "imputer = KNNImputer(n_neighbors=2)"
   ]
  },
  {
   "cell_type": "code",
   "execution_count": 31,
   "id": "a20cc5d8",
   "metadata": {},
   "outputs": [],
   "source": [
    "\n",
    "dex = pd.DataFrame(imputer.fit_transform(dex))"
   ]
  },
  {
   "cell_type": "code",
   "execution_count": 32,
   "id": "91af788d",
   "metadata": {},
   "outputs": [
    {
     "data": {
      "text/html": [
       "<div>\n",
       "<style scoped>\n",
       "    .dataframe tbody tr th:only-of-type {\n",
       "        vertical-align: middle;\n",
       "    }\n",
       "\n",
       "    .dataframe tbody tr th {\n",
       "        vertical-align: top;\n",
       "    }\n",
       "\n",
       "    .dataframe thead th {\n",
       "        text-align: right;\n",
       "    }\n",
       "</style>\n",
       "<table border=\"1\" class=\"dataframe\">\n",
       "  <thead>\n",
       "    <tr style=\"text-align: right;\">\n",
       "      <th></th>\n",
       "      <th>0</th>\n",
       "      <th>1</th>\n",
       "      <th>2</th>\n",
       "    </tr>\n",
       "  </thead>\n",
       "  <tbody>\n",
       "    <tr>\n",
       "      <th>0</th>\n",
       "      <td>40.0</td>\n",
       "      <td>19.0</td>\n",
       "      <td>3.00</td>\n",
       "    </tr>\n",
       "    <tr>\n",
       "      <th>1</th>\n",
       "      <td>42.0</td>\n",
       "      <td>20.0</td>\n",
       "      <td>3.10</td>\n",
       "    </tr>\n",
       "    <tr>\n",
       "      <th>2</th>\n",
       "      <td>44.0</td>\n",
       "      <td>21.0</td>\n",
       "      <td>3.60</td>\n",
       "    </tr>\n",
       "    <tr>\n",
       "      <th>3</th>\n",
       "      <td>45.0</td>\n",
       "      <td>23.0</td>\n",
       "      <td>4.10</td>\n",
       "    </tr>\n",
       "    <tr>\n",
       "      <th>4</th>\n",
       "      <td>39.0</td>\n",
       "      <td>25.0</td>\n",
       "      <td>5.00</td>\n",
       "    </tr>\n",
       "    <tr>\n",
       "      <th>5</th>\n",
       "      <td>80.0</td>\n",
       "      <td>27.0</td>\n",
       "      <td>4.45</td>\n",
       "    </tr>\n",
       "    <tr>\n",
       "      <th>6</th>\n",
       "      <td>82.0</td>\n",
       "      <td>30.0</td>\n",
       "      <td>4.80</td>\n",
       "    </tr>\n",
       "  </tbody>\n",
       "</table>\n",
       "</div>"
      ],
      "text/plain": [
       "      0     1     2\n",
       "0  40.0  19.0  3.00\n",
       "1  42.0  20.0  3.10\n",
       "2  44.0  21.0  3.60\n",
       "3  45.0  23.0  4.10\n",
       "4  39.0  25.0  5.00\n",
       "5  80.0  27.0  4.45\n",
       "6  82.0  30.0  4.80"
      ]
     },
     "execution_count": 32,
     "metadata": {},
     "output_type": "execute_result"
    }
   ],
   "source": [
    "\n",
    "dex"
   ]
  },
  {
   "cell_type": "code",
   "execution_count": 33,
   "id": "2d7ea8cf",
   "metadata": {},
   "outputs": [],
   "source": [
    "\n",
    "from sklearn.preprocessing import StandardScaler , RobustScaler"
   ]
  },
  {
   "cell_type": "code",
   "execution_count": 34,
   "id": "9a2cb857",
   "metadata": {},
   "outputs": [],
   "source": [
    "X_train = train[['Age']]\n",
    "scaler = StandardScaler()\n",
    "Standard_scaler = scaler.fit(X_train[['Age']])"
   ]
  },
  {
   "cell_type": "code",
   "execution_count": 35,
   "id": "41f08962",
   "metadata": {},
   "outputs": [
    {
     "data": {
      "text/plain": [
       "array([35.40285714])"
      ]
     },
     "execution_count": 35,
     "metadata": {},
     "output_type": "execute_result"
    }
   ],
   "source": [
    "\n",
    "scaler.mean_"
   ]
  },
  {
   "cell_type": "code",
   "execution_count": 36,
   "id": "0f615114",
   "metadata": {},
   "outputs": [
    {
     "data": {
      "text/plain": [
       "array([11.23479253])"
      ]
     },
     "execution_count": 36,
     "metadata": {},
     "output_type": "execute_result"
    }
   ],
   "source": [
    "\n",
    "scaler.var_**0.5"
   ]
  },
  {
   "cell_type": "code",
   "execution_count": 37,
   "id": "2ac8fcc7",
   "metadata": {},
   "outputs": [],
   "source": [
    "\n",
    " scl = scaler.transform(X_train[['Age']])"
   ]
  },
  {
   "cell_type": "code",
   "execution_count": 38,
   "id": "9c3715fa",
   "metadata": {},
   "outputs": [],
   "source": [
    "q1 = X_train[\"Age\"].quantile(0.25)\n",
    "q3 = X_train[\"Age\"].quantile(0.75)\n",
    "iqr = q3 -q1"
   ]
  },
  {
   "cell_type": "code",
   "execution_count": 39,
   "id": "d3592634",
   "metadata": {},
   "outputs": [
    {
     "data": {
      "text/plain": [
       "14.25"
      ]
     },
     "execution_count": 39,
     "metadata": {},
     "output_type": "execute_result"
    }
   ],
   "source": [
    "iqr"
   ]
  },
  {
   "cell_type": "code",
   "execution_count": 40,
   "id": "92353eed",
   "metadata": {},
   "outputs": [],
   "source": [
    "\n",
    "RobustScaler = (X_train['Age']-X_train['Age'].median())/iqr"
   ]
  },
  {
   "cell_type": "code",
   "execution_count": 41,
   "id": "cbfcb6dc",
   "metadata": {},
   "outputs": [
    {
     "data": {
      "text/plain": [
       "328   -0.140351\n",
       "891    0.912281\n",
       "255   -0.421053\n",
       "243   -0.421053\n",
       "492   -0.421053\n",
       "         ...   \n",
       "73     0.561404\n",
       "401   -0.350877\n",
       "769    2.105263\n",
       "2      1.122807\n",
       "617    0.280702\n",
       "Name: Age, Length: 700, dtype: float64"
      ]
     },
     "execution_count": 41,
     "metadata": {},
     "output_type": "execute_result"
    }
   ],
   "source": [
    "\n",
    "RobustScaler"
   ]
  },
  {
   "cell_type": "code",
   "execution_count": 42,
   "id": "e005ce55",
   "metadata": {},
   "outputs": [],
   "source": [
    "\n",
    "from sklearn.preprocessing import RobustScaler\n",
    "rbs = RobustScaler()\n",
    "Robust_scaler = rbs.fit(X_train[['Age']])"
   ]
  },
  {
   "cell_type": "code",
   "execution_count": 43,
   "id": "17beb5b0",
   "metadata": {},
   "outputs": [
    {
     "ename": "SyntaxError",
     "evalue": "invalid syntax (2697051724.py, line 1)",
     "output_type": "error",
     "traceback": [
      "\u001b[0;36m  File \u001b[0;32m\"/tmp/ipykernel_11168/2697051724.py\"\u001b[0;36m, line \u001b[0;32m1\u001b[0m\n\u001b[0;31m    https://github.com/SergioCortesG/ProyectoMLANDIA/blob/main/exploracion.ipynb\u001b[0m\n\u001b[0m          ^\u001b[0m\n\u001b[0;31mSyntaxError\u001b[0m\u001b[0;31m:\u001b[0m invalid syntax\n"
     ]
    }
   ],
   "source": []
  },
  {
   "cell_type": "code",
   "execution_count": 45,
   "id": "e023c5ea",
   "metadata": {},
   "outputs": [],
   "source": [
    "\n",
    "from sklearn.preprocessing import OneHotEncoder"
   ]
  },
  {
   "cell_type": "code",
   "execution_count": 46,
   "id": "ab2efecd",
   "metadata": {},
   "outputs": [],
   "source": [
    "encoder = OneHotEncoder(sparse = False,drop='first')\n",
    "encoder.fit_transform(train[[\"Sex\"]]);"
   ]
  },
  {
   "cell_type": "code",
   "execution_count": 47,
   "id": "2c0cdbcc",
   "metadata": {},
   "outputs": [
    {
     "data": {
      "text/plain": [
       "[array(['female', 'male'], dtype=object)]"
      ]
     },
     "execution_count": 47,
     "metadata": {},
     "output_type": "execute_result"
    }
   ],
   "source": [
    "\n",
    "encoder.categories_"
   ]
  },
  {
   "cell_type": "code",
   "execution_count": 48,
   "id": "2b622b1f",
   "metadata": {},
   "outputs": [
    {
     "data": {
      "text/plain": [
       "array([['female']], dtype=object)"
      ]
     },
     "execution_count": 48,
     "metadata": {},
     "output_type": "execute_result"
    }
   ],
   "source": [
    "encoder.inverse_transform([[0]])"
   ]
  },
  {
   "cell_type": "code",
   "execution_count": 49,
   "id": "fa46c526",
   "metadata": {},
   "outputs": [
    {
     "data": {
      "text/plain": [
       "array([['male']], dtype=object)"
      ]
     },
     "execution_count": 49,
     "metadata": {},
     "output_type": "execute_result"
    }
   ],
   "source": [
    "\n",
    "encoder.inverse_transform([[1]])"
   ]
  },
  {
   "cell_type": "code",
   "execution_count": 50,
   "id": "8dbe7faf",
   "metadata": {},
   "outputs": [],
   "source": [
    "from sklearn.pipeline import Pipeline\n",
    "from sklearn.impute import SimpleImputer\n",
    "from sklearn.preprocessing import MinMaxScaler\n",
    "from sklearn.pipeline import Pipeline"
   ]
  },
  {
   "cell_type": "code",
   "execution_count": 51,
   "id": "80df2659",
   "metadata": {},
   "outputs": [],
   "source": [
    "numeric_pipeline = Pipeline(\n",
    "    [\n",
    "     ('Imputacion con la media', SimpleImputer(strategy = 'mean')),\n",
    "     ('Escalado minmax',MinMaxScaler())\n",
    "        \n",
    "    ]\n",
    ")"
   ]
  },
  {
   "cell_type": "code",
   "execution_count": 52,
   "id": "8c177b41",
   "metadata": {},
   "outputs": [
    {
     "data": {
      "text/plain": [
       "Pipeline(steps=[('Imputacion con la media', SimpleImputer()),\n",
       "                ('Escalado minmax', MinMaxScaler())])"
      ]
     },
     "execution_count": 52,
     "metadata": {},
     "output_type": "execute_result"
    }
   ],
   "source": [
    "\n",
    "numeric_pipeline.fit(train[[\"Age\",\"Credit amount\",\"Duration\"]])"
   ]
  },
  {
   "cell_type": "code",
   "execution_count": 53,
   "id": "7a343492",
   "metadata": {},
   "outputs": [
    {
     "data": {
      "text/plain": [
       "array([  35.40285714, 3236.12142857,   21.04857143])"
      ]
     },
     "execution_count": 53,
     "metadata": {},
     "output_type": "execute_result"
    }
   ],
   "source": [
    "\n",
    "numeric_pipeline[0].statistics_"
   ]
  },
  {
   "cell_type": "code",
   "execution_count": 54,
   "id": "0a3bb8ab",
   "metadata": {},
   "outputs": [
    {
     "data": {
      "text/plain": [
       "array([-0.36363636, -0.01375592, -0.05882353])"
      ]
     },
     "execution_count": 54,
     "metadata": {},
     "output_type": "execute_result"
    }
   ],
   "source": [
    "\n",
    "numeric_pipeline[1].min_"
   ]
  },
  {
   "cell_type": "code",
   "execution_count": 55,
   "id": "08bb7ecf",
   "metadata": {},
   "outputs": [
    {
     "data": {
      "text/plain": [
       "array([-0.36363636, -0.01375592, -0.05882353])"
      ]
     },
     "execution_count": 55,
     "metadata": {},
     "output_type": "execute_result"
    }
   ],
   "source": [
    "numeric_pipeline[1].min_"
   ]
  },
  {
   "cell_type": "code",
   "execution_count": 56,
   "id": "6d3b5982",
   "metadata": {},
   "outputs": [
    {
     "data": {
      "text/plain": [
       "array([   75., 18424.,    72.])"
      ]
     },
     "execution_count": 56,
     "metadata": {},
     "output_type": "execute_result"
    }
   ],
   "source": [
    "\n",
    "numeric_pipeline[1].data_max_"
   ]
  },
  {
   "cell_type": "code",
   "execution_count": 57,
   "id": "0c5e3682",
   "metadata": {},
   "outputs": [
    {
     "data": {
      "text/plain": [
       "array([[0.2       , 0.23236492, 0.47058824],\n",
       "       [0.47272727, 0.08688236, 0.16176471],\n",
       "       [0.12727273, 0.3944096 , 0.82352941],\n",
       "       ...,\n",
       "       [0.78181818, 0.07730824, 0.11764706],\n",
       "       [0.52727273, 0.10157368, 0.11764706],\n",
       "       [0.30909091, 0.18851106, 0.02941176]])"
      ]
     },
     "execution_count": 57,
     "metadata": {},
     "output_type": "execute_result"
    }
   ],
   "source": [
    "\n",
    "numeric_pipeline.transform(train[[\"Age\",\"Credit amount\",\"Duration\"]])"
   ]
  },
  {
   "cell_type": "code",
   "execution_count": 58,
   "id": "58f61a3e",
   "metadata": {},
   "outputs": [
    {
     "name": "stderr",
     "output_type": "stream",
     "text": [
      "/home/ec2-user/anaconda3/envs/python3/lib/python3.8/site-packages/sklearn/base.py:445: UserWarning: X does not have valid feature names, but SimpleImputer was fitted with feature names\n",
      "  warnings.warn(\n"
     ]
    },
    {
     "data": {
      "text/plain": [
       "array([[0.28005195, 0.16430733, 0.25071429]])"
      ]
     },
     "execution_count": 58,
     "metadata": {},
     "output_type": "execute_result"
    }
   ],
   "source": [
    "\n",
    "numeric_pipeline.transform([[np.nan,np.nan,np.nan]])"
   ]
  },
  {
   "cell_type": "code",
   "execution_count": 59,
   "id": "0d80f018",
   "metadata": {},
   "outputs": [],
   "source": [
    "\n",
    "#Sex, Purpose,Categoric_python,Checking account"
   ]
  },
  {
   "cell_type": "code",
   "execution_count": 60,
   "id": "e867721a",
   "metadata": {},
   "outputs": [],
   "source": [
    "\n",
    "#Sex, Purpose,Categoric_python,Checking account\n",
    "categorical_pipeline = Pipeline(\n",
    "    [\n",
    "     ('Imputacion con la moda', SimpleImputer(strategy = 'most_frequent')),\n",
    "     ('Codificacion',OneHotEncoder(sparse = False,drop='first'))\n",
    "        \n",
    "    ]\n",
    ")"
   ]
  },
  {
   "cell_type": "code",
   "execution_count": 61,
   "id": "5631bcca",
   "metadata": {},
   "outputs": [
    {
     "data": {
      "text/plain": [
       "Pipeline(steps=[('Imputacion con la moda',\n",
       "                 SimpleImputer(strategy='most_frequent')),\n",
       "                ('Codificacion', OneHotEncoder(drop='first', sparse=False))])"
      ]
     },
     "execution_count": 61,
     "metadata": {},
     "output_type": "execute_result"
    }
   ],
   "source": [
    "categorical_pipeline.fit(train[[\"Sex\",\"Purpose\",\"Housing\"]])"
   ]
  },
  {
   "cell_type": "code",
   "execution_count": 62,
   "id": "09bd8cbf",
   "metadata": {},
   "outputs": [
    {
     "data": {
      "text/plain": [
       "array(['male', 'car', 'own'], dtype=object)"
      ]
     },
     "execution_count": 62,
     "metadata": {},
     "output_type": "execute_result"
    }
   ],
   "source": [
    "categorical_pipeline[0].statistics_"
   ]
  },
  {
   "cell_type": "code",
   "execution_count": 63,
   "id": "e0b0ff2d",
   "metadata": {},
   "outputs": [
    {
     "data": {
      "text/plain": [
       "[array(['female', 'male'], dtype=object),\n",
       " array(['business', 'car', 'domestic appliances', 'education',\n",
       "        'furniture/equipment', 'radio/TV', 'repairs', 'vacation/others'],\n",
       "       dtype=object),\n",
       " array(['free', 'own', 'rent'], dtype=object)]"
      ]
     },
     "execution_count": 63,
     "metadata": {},
     "output_type": "execute_result"
    }
   ],
   "source": [
    "categorical_pipeline[1].categories_"
   ]
  },
  {
   "cell_type": "code",
   "execution_count": 64,
   "id": "2837d0dc",
   "metadata": {},
   "outputs": [
    {
     "data": {
      "text/plain": [
       "array([[1., 0., 0., ..., 0., 1., 0.],\n",
       "       [1., 0., 0., ..., 0., 1., 0.],\n",
       "       [1., 0., 0., ..., 0., 1., 0.],\n",
       "       ...,\n",
       "       [1., 0., 0., ..., 0., 1., 0.],\n",
       "       [1., 0., 0., ..., 0., 1., 0.],\n",
       "       [1., 1., 0., ..., 0., 0., 1.]])"
      ]
     },
     "execution_count": 64,
     "metadata": {},
     "output_type": "execute_result"
    }
   ],
   "source": [
    "categorical_pipeline.transform(train[[\"Sex\",\"Purpose\",\"Housing\"]])"
   ]
  },
  {
   "cell_type": "code",
   "execution_count": 65,
   "id": "3d356028",
   "metadata": {},
   "outputs": [],
   "source": [
    "from sklearn.compose import ColumnTransformer"
   ]
  },
  {
   "cell_type": "code",
   "execution_count": 66,
   "id": "7342c4b1",
   "metadata": {},
   "outputs": [],
   "source": [
    "column_transformer = ColumnTransformer(\n",
    "[\n",
    "    (\"numeric pipeline\",numeric_pipeline,[0,1,2]),\n",
    "    (\"categorical pipeline\",categorical_pipeline,[3,4,5])\n",
    "]\n",
    ")"
   ]
  },
  {
   "cell_type": "code",
   "execution_count": 67,
   "id": "11d1d848",
   "metadata": {},
   "outputs": [
    {
     "data": {
      "text/plain": [
       "ColumnTransformer(transformers=[('numeric pipeline',\n",
       "                                 Pipeline(steps=[('Imputacion con la media',\n",
       "                                                  SimpleImputer()),\n",
       "                                                 ('Escalado minmax',\n",
       "                                                  MinMaxScaler())]),\n",
       "                                 [0, 1, 2]),\n",
       "                                ('categorical pipeline',\n",
       "                                 Pipeline(steps=[('Imputacion con la moda',\n",
       "                                                  SimpleImputer(strategy='most_frequent')),\n",
       "                                                 ('Codificacion',\n",
       "                                                  OneHotEncoder(drop='first',\n",
       "                                                                sparse=False))]),\n",
       "                                 [3, 4, 5])])"
      ]
     },
     "execution_count": 67,
     "metadata": {},
     "output_type": "execute_result"
    }
   ],
   "source": [
    "column_transformer.fit(train[[\"Age\",\"Credit amount\",\"Duration\",\"Sex\",\"Purpose\",\"Housing\",]])"
   ]
  },
  {
   "cell_type": "code",
   "execution_count": 68,
   "id": "3b67bc80",
   "metadata": {},
   "outputs": [
    {
     "data": {
      "text/plain": [
       "array([[0.2       , 0.23236492, 0.47058824, ..., 0.        , 1.        ,\n",
       "        0.        ],\n",
       "       [0.47272727, 0.08688236, 0.16176471, ..., 0.        , 1.        ,\n",
       "        0.        ],\n",
       "       [0.12727273, 0.3944096 , 0.82352941, ..., 0.        , 1.        ,\n",
       "        0.        ],\n",
       "       ...,\n",
       "       [0.78181818, 0.07730824, 0.11764706, ..., 0.        , 1.        ,\n",
       "        0.        ],\n",
       "       [0.52727273, 0.10157368, 0.11764706, ..., 0.        , 1.        ,\n",
       "        0.        ],\n",
       "       [0.30909091, 0.18851106, 0.02941176, ..., 0.        , 0.        ,\n",
       "        1.        ]])"
      ]
     },
     "execution_count": 68,
     "metadata": {},
     "output_type": "execute_result"
    }
   ],
   "source": [
    "column_transformer.transform(train[[\"Age\",\"Credit amount\",\"Duration\",\"Sex\",\"Purpose\",\"Housing\",]])"
   ]
  },
  {
   "cell_type": "code",
   "execution_count": 69,
   "id": "72724fef",
   "metadata": {},
   "outputs": [],
   "source": [
    "import joblib"
   ]
  },
  {
   "cell_type": "code",
   "execution_count": 70,
   "id": "6d963d42",
   "metadata": {},
   "outputs": [
    {
     "data": {
      "text/plain": [
       "['preprocessing.joblib']"
      ]
     },
     "execution_count": 70,
     "metadata": {},
     "output_type": "execute_result"
    }
   ],
   "source": [
    "joblib.dump(column_transformer,\"preprocessing.joblib\")"
   ]
  },
  {
   "cell_type": "code",
   "execution_count": null,
   "id": "7dd8abda",
   "metadata": {},
   "outputs": [],
   "source": []
  },
  {
   "cell_type": "code",
   "execution_count": 71,
   "id": "497d800b",
   "metadata": {},
   "outputs": [],
   "source": [
    "# EVALUACION DE MODELOS DE VALIDACION CRUZADA "
   ]
  },
  {
   "cell_type": "code",
   "execution_count": 72,
   "id": "e8e5f0dd",
   "metadata": {},
   "outputs": [],
   "source": [
    "### vERSION 1 ,evaluar solo el modelo"
   ]
  },
  {
   "cell_type": "code",
   "execution_count": 74,
   "id": "1ee24c23",
   "metadata": {},
   "outputs": [],
   "source": [
    "X_train = train[[\"Age\",\"Credit amount\",\"Duration\",\"Sex\",\"Purpose\",\"Housing\",]] "
   ]
  },
  {
   "cell_type": "code",
   "execution_count": 75,
   "id": "93167641",
   "metadata": {},
   "outputs": [],
   "source": [
    "y_train = train[\"Risk\"]"
   ]
  },
  {
   "cell_type": "code",
   "execution_count": 77,
   "id": "75847800",
   "metadata": {},
   "outputs": [],
   "source": [
    "X_train_processed = column_transformer.transform(X_train)"
   ]
  },
  {
   "cell_type": "code",
   "execution_count": 78,
   "id": "a0f14908",
   "metadata": {},
   "outputs": [
    {
     "data": {
      "text/plain": [
       "array([[0.2       , 0.23236492, 0.47058824, ..., 0.        , 1.        ,\n",
       "        0.        ],\n",
       "       [0.47272727, 0.08688236, 0.16176471, ..., 0.        , 1.        ,\n",
       "        0.        ],\n",
       "       [0.12727273, 0.3944096 , 0.82352941, ..., 0.        , 1.        ,\n",
       "        0.        ],\n",
       "       ...,\n",
       "       [0.78181818, 0.07730824, 0.11764706, ..., 0.        , 1.        ,\n",
       "        0.        ],\n",
       "       [0.52727273, 0.10157368, 0.11764706, ..., 0.        , 1.        ,\n",
       "        0.        ],\n",
       "       [0.30909091, 0.18851106, 0.02941176, ..., 0.        , 0.        ,\n",
       "        1.        ]])"
      ]
     },
     "execution_count": 78,
     "metadata": {},
     "output_type": "execute_result"
    }
   ],
   "source": [
    "X_train_processed"
   ]
  },
  {
   "cell_type": "code",
   "execution_count": 82,
   "id": "c69ba8b4",
   "metadata": {},
   "outputs": [],
   "source": [
    "from sklearn.model_selection import cross_validate\n",
    "from sklearn.tree import DecisionTreeClassifier"
   ]
  },
  {
   "cell_type": "code",
   "execution_count": 91,
   "id": "cc5efedf",
   "metadata": {},
   "outputs": [],
   "source": [
    "y_train_transform = (y_train=='good').astype('int')"
   ]
  },
  {
   "cell_type": "code",
   "execution_count": 93,
   "id": "c34cb6ad",
   "metadata": {},
   "outputs": [],
   "source": [
    "results = cross_validate(DecisionTreeClassifier(),X_train_processed,y_train_transform,cv=10,scoring=[\"accuracy\",\"f1\"])"
   ]
  },
  {
   "cell_type": "code",
   "execution_count": 95,
   "id": "542ca31b",
   "metadata": {},
   "outputs": [
    {
     "data": {
      "text/plain": [
       "dict_keys(['fit_time', 'score_time', 'test_accuracy', 'test_f1'])"
      ]
     },
     "execution_count": 95,
     "metadata": {},
     "output_type": "execute_result"
    }
   ],
   "source": [
    "results.keys()"
   ]
  },
  {
   "cell_type": "code",
   "execution_count": 96,
   "id": "f8dbb32e",
   "metadata": {},
   "outputs": [
    {
     "name": "stdout",
     "output_type": "stream",
     "text": [
      "0.6214285714285713 +- 0.0448352995042149\n"
     ]
    }
   ],
   "source": [
    "print(results[\"test_accuracy\"].mean(),\"+-\",results[\"test_accuracy\"].std())"
   ]
  },
  {
   "cell_type": "code",
   "execution_count": null,
   "id": "741750c8",
   "metadata": {},
   "outputs": [],
   "source": [
    "### VERSION 2  evaluar el preprocesamiento inclutyendolo en el pipeline "
   ]
  },
  {
   "cell_type": "code",
   "execution_count": 97,
   "id": "f0b0d05e",
   "metadata": {},
   "outputs": [],
   "source": [
    "final_pipeline = Pipeline(\n",
    "[\n",
    "    (\"Pipeline de preprocesamiento\",column_transformer),\n",
    "    (\"Modelo de predicción (Arbol)\", DecisionTreeClassifier())\n",
    "]\n",
    ")\n"
   ]
  },
  {
   "cell_type": "code",
   "execution_count": 101,
   "id": "363db93c",
   "metadata": {},
   "outputs": [],
   "source": [
    "results = cross_validate(final_pipeline,X_train,y_train_transform,cv=10,scoring=[\"accuracy\",\"f1\"])"
   ]
  },
  {
   "cell_type": "code",
   "execution_count": 102,
   "id": "cdc14182",
   "metadata": {},
   "outputs": [
    {
     "name": "stdout",
     "output_type": "stream",
     "text": [
      "0.6214285714285714 +- 0.04201554619957927\n"
     ]
    }
   ],
   "source": [
    "print(results[\"test_accuracy\"].mean(),\"+-\",results[\"test_accuracy\"].std())"
   ]
  },
  {
   "cell_type": "code",
   "execution_count": 119,
   "id": "bd05e7b6",
   "metadata": {},
   "outputs": [],
   "source": [
    "final_pipeline = Pipeline(\n",
    "[\n",
    "    (\"Pipeline de preprocesamiento\",column_transformer),\n",
    "    (\"Modelo de predicción (Arbol)\", DecisionTreeClassifier(max_depth=3))\n",
    "]\n",
    ")\n",
    "results = cross_validate(final_pipeline,X_train,y_train_transform,cv=10,scoring=[\"accuracy\",\"f1\"])"
   ]
  },
  {
   "cell_type": "code",
   "execution_count": 120,
   "id": "d2ffed22",
   "metadata": {},
   "outputs": [
    {
     "name": "stdout",
     "output_type": "stream",
     "text": [
      "0.7214285714285713 +- 0.01317077779613268\n"
     ]
    }
   ],
   "source": [
    "print(results[\"test_accuracy\"].mean(),\"+-\",results[\"test_accuracy\"].std())"
   ]
  },
  {
   "cell_type": "code",
   "execution_count": 132,
   "id": "3bceb26f",
   "metadata": {},
   "outputs": [],
   "source": [
    "from sklearn.model_selection import GridSearchCV"
   ]
  },
  {
   "cell_type": "code",
   "execution_count": 133,
   "id": "37bdc64e",
   "metadata": {},
   "outputs": [],
   "source": [
    "grid = {'max_depth':[2,3,5,10]}"
   ]
  },
  {
   "cell_type": "code",
   "execution_count": 145,
   "id": "3d1786ba",
   "metadata": {},
   "outputs": [],
   "source": [
    "grid_search = GridSearchCV(\n",
    "DecisionTreeClassifier(),    \n",
    "param_grid=grid,\n",
    "cv=10,\n",
    "scoring=[\"accuracy\",\"f1\"],\n",
    "refit=False)"
   ]
  },
  {
   "cell_type": "code",
   "execution_count": 146,
   "id": "264cabbe",
   "metadata": {},
   "outputs": [
    {
     "data": {
      "text/plain": [
       "GridSearchCV(cv=10, estimator=DecisionTreeClassifier(),\n",
       "             param_grid={'max_depth': [2, 3, 5, 10]}, refit=False,\n",
       "             scoring=['accuracy', 'f1'])"
      ]
     },
     "execution_count": 146,
     "metadata": {},
     "output_type": "execute_result"
    }
   ],
   "source": [
    "grid_search.fit(X_train_processed,y_train_transform)"
   ]
  },
  {
   "cell_type": "code",
   "execution_count": 159,
   "id": "711247d6",
   "metadata": {},
   "outputs": [
    {
     "data": {
      "text/plain": [
       "GridSearchCV(cv=10, estimator=DecisionTreeClassifier(),\n",
       "             param_grid={'max_depth': [2, 3, 5, 10]}, refit=False,\n",
       "             scoring=['accuracy', 'f1'])"
      ]
     },
     "execution_count": 159,
     "metadata": {},
     "output_type": "execute_result"
    }
   ],
   "source": [
    "grid_search"
   ]
  },
  {
   "cell_type": "code",
   "execution_count": 158,
   "id": "1ff350f7",
   "metadata": {},
   "outputs": [
    {
     "ename": "AttributeError",
     "evalue": "'GridSearchCV' object has no attribute 'get_params_'",
     "output_type": "error",
     "traceback": [
      "\u001b[0;31m---------------------------------------------------------------------------\u001b[0m",
      "\u001b[0;31mAttributeError\u001b[0m                            Traceback (most recent call last)",
      "\u001b[0;32m/tmp/ipykernel_11168/3655775375.py\u001b[0m in \u001b[0;36m<cell line: 1>\u001b[0;34m()\u001b[0m\n\u001b[0;32m----> 1\u001b[0;31m \u001b[0mgrid_search\u001b[0m\u001b[0;34m.\u001b[0m\u001b[0mget_params_\u001b[0m\u001b[0;34m\u001b[0m\u001b[0;34m\u001b[0m\u001b[0m\n\u001b[0m",
      "\u001b[0;31mAttributeError\u001b[0m: 'GridSearchCV' object has no attribute 'get_params_'"
     ]
    }
   ],
   "source": [
    "grid_search.get_params_"
   ]
  },
  {
   "cell_type": "code",
   "execution_count": 151,
   "id": "984b2fcc",
   "metadata": {},
   "outputs": [
    {
     "ename": "AttributeError",
     "evalue": "'GridSearchCV' object has no attribute 'best_score_'",
     "output_type": "error",
     "traceback": [
      "\u001b[0;31m---------------------------------------------------------------------------\u001b[0m",
      "\u001b[0;31mAttributeError\u001b[0m                            Traceback (most recent call last)",
      "\u001b[0;32m/tmp/ipykernel_11168/2718232776.py\u001b[0m in \u001b[0;36m<cell line: 1>\u001b[0;34m()\u001b[0m\n\u001b[0;32m----> 1\u001b[0;31m \u001b[0mgrid_search\u001b[0m\u001b[0;34m.\u001b[0m\u001b[0mbest_score_\u001b[0m\u001b[0;34m\u001b[0m\u001b[0;34m\u001b[0m\u001b[0m\n\u001b[0m",
      "\u001b[0;31mAttributeError\u001b[0m: 'GridSearchCV' object has no attribute 'best_score_'"
     ]
    }
   ],
   "source": [
    "grid_search.best_score_"
   ]
  }
 ],
 "metadata": {
  "kernelspec": {
   "display_name": "conda_python3",
   "language": "python",
   "name": "conda_python3"
  },
  "language_info": {
   "codemirror_mode": {
    "name": "ipython",
    "version": 3
   },
   "file_extension": ".py",
   "mimetype": "text/x-python",
   "name": "python",
   "nbconvert_exporter": "python",
   "pygments_lexer": "ipython3",
   "version": "3.8.12"
  }
 },
 "nbformat": 4,
 "nbformat_minor": 5
}
